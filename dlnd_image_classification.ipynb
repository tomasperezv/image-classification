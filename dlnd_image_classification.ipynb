{
 "cells": [
  {
   "cell_type": "markdown",
   "metadata": {
    "collapsed": true
   },
   "source": [
    "# Image Classification\n",
    "In this project, you'll classify images from the [CIFAR-10 dataset](https://www.cs.toronto.edu/~kriz/cifar.html).  The dataset consists of airplanes, dogs, cats, and other objects. You'll preprocess the images, then train a convolutional neural network on all the samples. The images need to be normalized and the labels need to be one-hot encoded.  You'll get to apply what you learned and build a convolutional, max pooling, dropout, and fully connected layers.  At the end, you'll get to see your neural network's predictions on the sample images.\n",
    "## Get the Data\n",
    "Run the following cell to download the [CIFAR-10 dataset for python](https://www.cs.toronto.edu/~kriz/cifar-10-python.tar.gz)."
   ]
  },
  {
   "cell_type": "code",
   "execution_count": 1,
   "metadata": {},
   "outputs": [
    {
     "name": "stdout",
     "output_type": "stream",
     "text": [
      "All files found!\n"
     ]
    }
   ],
   "source": [
    "\"\"\"\n",
    "DON'T MODIFY ANYTHING IN THIS CELL THAT IS BELOW THIS LINE\n",
    "\"\"\"\n",
    "from urllib.request import urlretrieve\n",
    "from os.path import isfile, isdir\n",
    "from tqdm import tqdm\n",
    "import problem_unittests as tests\n",
    "import tarfile\n",
    "\n",
    "cifar10_dataset_folder_path = 'cifar-10-batches-py'\n",
    "\n",
    "# Use Floyd's cifar-10 dataset if present\n",
    "floyd_cifar10_location = '/input/cifar-10/python.tar.gz'\n",
    "if isfile(floyd_cifar10_location):\n",
    "    tar_gz_path = floyd_cifar10_location\n",
    "else:\n",
    "    tar_gz_path = 'cifar-10-python.tar.gz'\n",
    "\n",
    "class DLProgress(tqdm):\n",
    "    last_block = 0\n",
    "\n",
    "    def hook(self, block_num=1, block_size=1, total_size=None):\n",
    "        self.total = total_size\n",
    "        self.update((block_num - self.last_block) * block_size)\n",
    "        self.last_block = block_num\n",
    "\n",
    "if not isfile(tar_gz_path):\n",
    "    with DLProgress(unit='B', unit_scale=True, miniters=1, desc='CIFAR-10 Dataset') as pbar:\n",
    "        urlretrieve(\n",
    "            'https://www.cs.toronto.edu/~kriz/cifar-10-python.tar.gz',\n",
    "            tar_gz_path,\n",
    "            pbar.hook)\n",
    "\n",
    "if not isdir(cifar10_dataset_folder_path):\n",
    "    with tarfile.open(tar_gz_path) as tar:\n",
    "        tar.extractall()\n",
    "        tar.close()\n",
    "\n",
    "\n",
    "tests.test_folder_path(cifar10_dataset_folder_path)"
   ]
  },
  {
   "cell_type": "markdown",
   "metadata": {},
   "source": [
    "## Explore the Data\n",
    "The dataset is broken into batches to prevent your machine from running out of memory.  The CIFAR-10 dataset consists of 5 batches, named `data_batch_1`, `data_batch_2`, etc.. Each batch contains the labels and images that are one of the following:\n",
    "* airplane\n",
    "* automobile\n",
    "* bird\n",
    "* cat\n",
    "* deer\n",
    "* dog\n",
    "* frog\n",
    "* horse\n",
    "* ship\n",
    "* truck\n",
    "\n",
    "Understanding a dataset is part of making predictions on the data.  Play around with the code cell below by changing the `batch_id` and `sample_id`. The `batch_id` is the id for a batch (1-5). The `sample_id` is the id for a image and label pair in the batch.\n",
    "\n",
    "Ask yourself \"What are all possible labels?\", \"What is the range of values for the image data?\", \"Are the labels in order or random?\".  Answers to questions like these will help you preprocess the data and end up with better predictions."
   ]
  },
  {
   "cell_type": "code",
   "execution_count": 10,
   "metadata": {
    "scrolled": true
   },
   "outputs": [
    {
     "name": "stdout",
     "output_type": "stream",
     "text": [
      "\n",
      "Stats of batch 2:\n",
      "Samples: 10000\n",
      "Label Counts: {0: 984, 1: 1007, 2: 1010, 3: 995, 4: 1010, 5: 988, 6: 1008, 7: 1026, 8: 987, 9: 985}\n",
      "First 20 Labels: [1, 6, 6, 8, 8, 3, 4, 6, 0, 6, 0, 3, 6, 6, 5, 4, 8, 3, 2, 6]\n",
      "\n",
      "Example of Image 5:\n",
      "Image - Min Value: 3 Max Value: 219\n",
      "Image - Shape: (32, 32, 3)\n",
      "Label - Label Id: 3 Name: cat\n"
     ]
    },
    {
     "data": {
      "image/png": "[encoded data removed]",
      "text/plain": [
       "<matplotlib.figure.Figure at 0x7f373abdb4a8>"
      ]
     },
     "metadata": {
      "image/png": {
       "height": 250,
       "width": 253
      }
     },
     "output_type": "display_data"
    }
   ],
   "source": [
    "%matplotlib inline\n",
    "%config InlineBackend.figure_format = 'retina'\n",
    "\n",
    "import helper\n",
    "import numpy as np\n",
    "\n",
    "# Explore the dataset\n",
    "batch_id = 2\n",
    "sample_id = 5\n",
    "helper.display_stats(cifar10_dataset_folder_path, batch_id, sample_id)"
   ]
  },
  {
   "cell_type": "markdown",
   "metadata": {},
   "source": [
    "## Implement Preprocess Functions\n",
    "### Normalize\n",
    "In the cell below, implement the `normalize` function to take in image data, `x`, and return it as a normalized Numpy array. The values should be in the range of 0 to 1, inclusive.  The return object should be the same shape as `x`."
   ]
  },
  {
   "cell_type": "code",
   "execution_count": 13,
   "metadata": {},
   "outputs": [
    {
     "name": "stdout",
     "output_type": "stream",
     "text": [
      "Tests Passed\n"
     ]
    }
   ],
   "source": [
    "def normalize(x):\n",
    "    \"\"\"\n",
    "    Normalize a list of sample image data in the range of 0 to 1\n",
    "    : x: List of image data.  The image shape is (32, 32, 3)\n",
    "    : return: Numpy array of normalize data\n",
    "    \"\"\"\n",
    "    return x / 255\n",
    "\n",
    "\n",
    "\"\"\"\n",
    "DON'T MODIFY ANYTHING IN THIS CELL THAT IS BELOW THIS LINE\n",
    "\"\"\"\n",
    "tests.test_normalize(normalize)"
   ]
  },
  {
   "cell_type": "markdown",
   "metadata": {},
   "source": [
    "### One-hot encode\n",
    "Just like the previous code cell, you'll be implementing a function for preprocessing.  This time, you'll implement the `one_hot_encode` function. The input, `x`, are a list of labels.  Implement the function to return the list of labels as One-Hot encoded Numpy array.  The possible values for labels are 0 to 9. The one-hot encoding function should return the same encoding for each value between each call to `one_hot_encode`.  Make sure to save the map of encodings outside the function.\n",
    "\n",
    "Hint: Don't reinvent the wheel."
   ]
  },
  {
   "cell_type": "code",
   "execution_count": 58,
   "metadata": {},
   "outputs": [
    {
     "name": "stdout",
     "output_type": "stream",
     "text": [
      "Tests Passed\n"
     ]
    }
   ],
   "source": [
    "lb = preprocessing.LabelBinarizer()\n",
    "lb.fit([0, 1, 2, 3, 4, 5, 6, 7, 8, 9])\n",
    "\n",
    "def one_hot_encode(x):\n",
    "    \"\"\"\n",
    "    One hot encode a list of sample labels. Return a one-hot encoded vector for each label.\n",
    "    : x: List of sample Labels\n",
    "    : return: Numpy array of one-hot encoded labels\n",
    "    \"\"\"\n",
    "    return lb.transform(x)\n",
    "\n",
    "\"\"\"\n",
    "DON'T MODIFY ANYTHING IN THIS CELL THAT IS BELOW THIS LINE\n",
    "\"\"\"\n",
    "tests.test_one_hot_encode(one_hot_encode)"
   ]
  },
  {
   "cell_type": "markdown",
   "metadata": {},
   "source": [
    "### Randomize Data\n",
    "As you saw from exploring the data above, the order of the samples are randomized.  It doesn't hurt to randomize it again, but you don't need to for this dataset."
   ]
  },
  {
   "cell_type": "markdown",
   "metadata": {},
   "source": [
    "## Preprocess all the data and save it\n",
    "Running the code cell below will preprocess all the CIFAR-10 data and save it to file. The code below also uses 10% of the training data for validation."
   ]
  },
  {
   "cell_type": "code",
   "execution_count": 59,
   "metadata": {
    "collapsed": true
   },
   "outputs": [],
   "source": [
    "\"\"\"\n",
    "DON'T MODIFY ANYTHING IN THIS CELL\n",
    "\"\"\"\n",
    "# Preprocess Training, Validation, and Testing Data\n",
    "helper.preprocess_and_save_data(cifar10_dataset_folder_path, normalize, one_hot_encode)"
   ]
  },
  {
   "cell_type": "markdown",
   "metadata": {},
   "source": [
    "# Check Point\n",
    "This is your first checkpoint.  If you ever decide to come back to this notebook or have to restart the notebook, you can start from here.  The preprocessed data has been saved to disk."
   ]
  },
  {
   "cell_type": "code",
   "execution_count": 60,
   "metadata": {
    "collapsed": true
   },
   "outputs": [],
   "source": [
    "\"\"\"\n",
    "DON'T MODIFY ANYTHING IN THIS CELL\n",
    "\"\"\"\n",
    "import pickle\n",
    "import problem_unittests as tests\n",
    "import helper\n",
    "\n",
    "# Load the Preprocessed Validation data\n",
    "valid_features, valid_labels = pickle.load(open('preprocess_validation.p', mode='rb'))"
   ]
  },
  {
   "cell_type": "markdown",
   "metadata": {},
   "source": [
    "## Build the network\n",
    "For the neural network, you'll build each layer into a function.  Most of the code you've seen has been outside of functions. To test your code more thoroughly, we require that you put each layer in a function.  This allows us to give you better feedback and test for simple mistakes using our unittests before you submit your project.\n",
    "\n",
    ">**Note:** If you're finding it hard to dedicate enough time for this course each week, we've provided a small shortcut to this part of the project. In the next couple of problems, you'll have the option to use classes from the [TensorFlow Layers](https://www.tensorflow.org/api_docs/python/tf/layers) or [TensorFlow Layers (contrib)](https://www.tensorflow.org/api_guides/python/contrib.layers) packages to build each layer, except the layers you build in the \"Convolutional and Max Pooling Layer\" section.  TF Layers is similar to Keras's and TFLearn's abstraction to layers, so it's easy to pickup.\n",
    "\n",
    ">However, if you would like to get the most out of this course, try to solve all the problems _without_ using anything from the TF Layers packages. You **can** still use classes from other packages that happen to have the same name as ones you find in TF Layers! For example, instead of using the TF Layers version of the `conv2d` class, [tf.layers.conv2d](https://www.tensorflow.org/api_docs/python/tf/layers/conv2d), you would want to use the TF Neural Network version of `conv2d`, [tf.nn.conv2d](https://www.tensorflow.org/api_docs/python/tf/nn/conv2d). \n",
    "\n",
    "Let's begin!\n",
    "\n",
    "### Input\n",
    "The neural network needs to read the image data, one-hot encoded labels, and dropout keep probability. Implement the following functions\n",
    "* Implement `neural_net_image_input`\n",
    " * Return a [TF Placeholder](https://www.tensorflow.org/api_docs/python/tf/placeholder)\n",
    " * Set the shape using `image_shape` with batch size set to `None`.\n",
    " * Name the TensorFlow placeholder \"x\" using the TensorFlow `name` parameter in the [TF Placeholder](https://www.tensorflow.org/api_docs/python/tf/placeholder).\n",
    "* Implement `neural_net_label_input`\n",
    " * Return a [TF Placeholder](https://www.tensorflow.org/api_docs/python/tf/placeholder)\n",
    " * Set the shape using `n_classes` with batch size set to `None`.\n",
    " * Name the TensorFlow placeholder \"y\" using the TensorFlow `name` parameter in the [TF Placeholder](https://www.tensorflow.org/api_docs/python/tf/placeholder).\n",
    "* Implement `neural_net_keep_prob_input`\n",
    " * Return a [TF Placeholder](https://www.tensorflow.org/api_docs/python/tf/placeholder) for dropout keep probability.\n",
    " * Name the TensorFlow placeholder \"keep_prob\" using the TensorFlow `name` parameter in the [TF Placeholder](https://www.tensorflow.org/api_docs/python/tf/placeholder).\n",
    "\n",
    "These names will be used at the end of the project to load your saved model.\n",
    "\n",
    "Note: `None` for shapes in TensorFlow allow for a dynamic size."
   ]
  },
  {
   "cell_type": "code",
   "execution_count": 61,
   "metadata": {},
   "outputs": [
    {
     "name": "stdout",
     "output_type": "stream",
     "text": [
      "Image Input Tests Passed.\n",
      "Label Input Tests Passed.\n",
      "Keep Prob Tests Passed.\n"
     ]
    }
   ],
   "source": [
    "import tensorflow as tf\n",
    "\n",
    "def neural_net_image_input(image_shape):\n",
    "    \"\"\"\n",
    "    Return a Tensor for a batch of image input\n",
    "    : image_shape: Shape of the images\n",
    "    : return: Tensor for image input.\n",
    "    \"\"\"\n",
    "    return tf.placeholder(tf.float32, [None, *image_shape], name='x')\n",
    "\n",
    "\n",
    "def neural_net_label_input(n_classes):\n",
    "    \"\"\"\n",
    "    Return a Tensor for a batch of label input\n",
    "    : n_classes: Number of classes\n",
    "    : return: Tensor for label input.\n",
    "    \"\"\"\n",
    "    return tf.placeholder(tf.float32, [None, n_classes], name='y')\n",
    "\n",
    "\n",
    "def neural_net_keep_prob_input():\n",
    "    \"\"\"\n",
    "    Return a Tensor for keep probability\n",
    "    : return: Tensor for keep probability.\n",
    "    \"\"\"\n",
    "    return tf.placeholder(tf.float32, name='keep_prob')\n",
    "\n",
    "\n",
    "\"\"\"\n",
    "DON'T MODIFY ANYTHING IN THIS CELL THAT IS BELOW THIS LINE\n",
    "\"\"\"\n",
    "tf.reset_default_graph()\n",
    "tests.test_nn_image_inputs(neural_net_image_input)\n",
    "tests.test_nn_label_inputs(neural_net_label_input)\n",
    "tests.test_nn_keep_prob_inputs(neural_net_keep_prob_input)"
   ]
  },
  {
   "cell_type": "markdown",
   "metadata": {},
   "source": [
    "### Convolution and Max Pooling Layer\n",
    "Convolution layers have a lot of success with images. For this code cell, you should implement the function `conv2d_maxpool` to apply convolution then max pooling:\n",
    "* Create the weight and bias using `conv_ksize`, `conv_num_outputs` and the shape of `x_tensor`.\n",
    "* Apply a convolution to `x_tensor` using weight and `conv_strides`.\n",
    " * We recommend you use same padding, but you're welcome to use any padding.\n",
    "* Add bias\n",
    "* Add a nonlinear activation to the convolution.\n",
    "* Apply Max Pooling using `pool_ksize` and `pool_strides`.\n",
    " * We recommend you use same padding, but you're welcome to use any padding.\n",
    "\n",
    "**Note:** You **can't** use [TensorFlow Layers](https://www.tensorflow.org/api_docs/python/tf/layers) or [TensorFlow Layers (contrib)](https://www.tensorflow.org/api_guides/python/contrib.layers) for **this** layer, but you can still use TensorFlow's [Neural Network](https://www.tensorflow.org/api_docs/python/tf/nn) package. You may still use the shortcut option for all the **other** layers."
   ]
  },
  {
   "cell_type": "code",
   "execution_count": 83,
   "metadata": {},
   "outputs": [
    {
     "name": "stdout",
     "output_type": "stream",
     "text": [
      "Tests Passed\n"
     ]
    }
   ],
   "source": [
    "def conv2d_maxpool(x_tensor, conv_num_outputs, conv_ksize, conv_strides, pool_ksize, pool_strides):\n",
    "    \"\"\"\n",
    "    Apply convolution then max pooling to x_tensor\n",
    "    :param x_tensor: TensorFlow Tensor\n",
    "    :param conv_num_outputs: Number of outputs for the convolutional layer\n",
    "    :param conv_ksize: kernal size 2-D Tuple for the convolutional layer\n",
    "    :param conv_strides: Stride 2-D Tuple for convolution\n",
    "    :param pool_ksize: kernal size 2-D Tuple for pool\n",
    "    :param pool_strides: Stride 2-D Tuple for pool\n",
    "    : return: A tensor that represents convolution and max pooling of x_tensor\n",
    "    \"\"\"\n",
    "    shape = x_tensor.get_shape().as_list()\n",
    "    weight = tf.Variable(tf.random_normal([conv_ksize[0], conv_ksize[1], shape[3], conv_num_outputs], mean=0.0, stddev=0.1))\n",
    "    bias = tf.Variable(tf.zeros([conv_num_outputs]))\n",
    "    \n",
    "    # @see https://www.tensorflow.org/api_docs/python/tf/nn/conv2d\n",
    "    conv2d = tf.nn.conv2d(x_tensor, weight, strides=[1, conv_strides[0], conv_strides[1], 1], padding='SAME')\n",
    "    \n",
    "    # @see https://www.tensorflow.org/api_docs/python/tf/nn/bias_add\n",
    "    bias = tf.nn.bias_add(conv2d, bias)\n",
    "    \n",
    "    # Rectifier Linear Unit\n",
    "    # @see https://www.tensorflow.org/api_docs/python/tf/nn/relu\n",
    "    x = tf.nn.relu(bias)\n",
    "\n",
    "    # @see https://www.tensorflow.org/api_docs/python/tf/nn/max_pool\n",
    "    ksize = [1, pool_ksize[0], pool_ksize[1], 1]\n",
    "    strides = [1, pool_strides[0], pool_strides[1], 1]\n",
    "\n",
    "    return tf.nn.max_pool(x, ksize, strides, padding='SAME')\n",
    "\n",
    "\"\"\"\n",
    "DON'T MODIFY ANYTHING IN THIS CELL THAT IS BELOW THIS LINE\n",
    "\"\"\"\n",
    "tests.test_con_pool(conv2d_maxpool)"
   ]
  },
  {
   "cell_type": "markdown",
   "metadata": {},
   "source": [
    "### Flatten Layer\n",
    "Implement the `flatten` function to change the dimension of `x_tensor` from a 4-D tensor to a 2-D tensor.  The output should be the shape (*Batch Size*, *Flattened Image Size*). Shortcut option: you can use classes from the [TensorFlow Layers](https://www.tensorflow.org/api_docs/python/tf/layers) or [TensorFlow Layers (contrib)](https://www.tensorflow.org/api_guides/python/contrib.layers) packages for this layer. For more of a challenge, only use other TensorFlow packages."
   ]
  },
  {
   "cell_type": "code",
   "execution_count": 70,
   "metadata": {},
   "outputs": [
    {
     "name": "stdout",
     "output_type": "stream",
     "text": [
      "Tests Passed\n"
     ]
    }
   ],
   "source": [
    "def flatten(x_tensor):\n",
    "    \"\"\"\n",
    "    Flatten x_tensor to (Batch Size, Flattened Image Size)\n",
    "    : x_tensor: A tensor of size (Batch Size, ...), where ... are the image dimensions.\n",
    "    : return: A tensor of size (Batch Size, Flattened Image Size).\n",
    "    \"\"\"\n",
    "    # @see https://www.tensorflow.org/api_docs/python/tf/TensorShape\n",
    "    shape = x_tensor.get_shape().as_list()\n",
    "    return tf.reshape(x_tensor, [-1, shape[1] * shape[2] * shape[3]])\n",
    "\n",
    "\"\"\"\n",
    "DON'T MODIFY ANYTHING IN THIS CELL THAT IS BELOW THIS LINE\n",
    "\"\"\"\n",
    "tests.test_flatten(flatten)"
   ]
  },
  {
   "cell_type": "markdown",
   "metadata": {},
   "source": [
    "### Fully-Connected Layer\n",
    "Implement the `fully_conn` function to apply a fully connected layer to `x_tensor` with the shape (*Batch Size*, *num_outputs*). Shortcut option: you can use classes from the [TensorFlow Layers](https://www.tensorflow.org/api_docs/python/tf/layers) or [TensorFlow Layers (contrib)](https://www.tensorflow.org/api_guides/python/contrib.layers) packages for this layer. For more of a challenge, only use other TensorFlow packages."
   ]
  },
  {
   "cell_type": "code",
   "execution_count": 85,
   "metadata": {},
   "outputs": [
    {
     "name": "stdout",
     "output_type": "stream",
     "text": [
      "Tests Passed\n"
     ]
    }
   ],
   "source": [
    "def fully_conn(x_tensor, num_outputs):\n",
    "    \"\"\"\n",
    "    Apply a fully connected layer to x_tensor using weight and bias\n",
    "    : x_tensor: A 2-D tensor where the first dimension is batch size.\n",
    "    : num_outputs: The number of output that the new tensor should be.\n",
    "    : return: A 2-D tensor where the second dimension is num_outputs.\n",
    "    \"\"\"\n",
    "    shape = x_tensor.get_shape().as_list()\n",
    "    \n",
    "    # @see https://www.tensorflow.org/versions/r1.3/api_docs/python/tf/random_normal\n",
    "    random_normal = tf.random_normal([shape[1], num_outputs], mean=0.0, stddev=0.1)\n",
    "    weigth = tf.Variable(random_normal)\n",
    "    bias = tf.Variable(tf.zeros([num_outputs]))\n",
    "    \n",
    "    fc = tf.add(tf.matmul(x_tensor, weigth), bias)\n",
    "    \n",
    "    return tf.nn.relu(fc)\n",
    "\n",
    "\"\"\"\n",
    "DON'T MODIFY ANYTHING IN THIS CELL THAT IS BELOW THIS LINE\n",
    "\"\"\"\n",
    "tests.test_fully_conn(fully_conn)"
   ]
  },
  {
   "cell_type": "markdown",
   "metadata": {},
   "source": [
    "### Output Layer\n",
    "Implement the `output` function to apply a fully connected layer to `x_tensor` with the shape (*Batch Size*, *num_outputs*). Shortcut option: you can use classes from the [TensorFlow Layers](https://www.tensorflow.org/api_docs/python/tf/layers) or [TensorFlow Layers (contrib)](https://www.tensorflow.org/api_guides/python/contrib.layers) packages for this layer. For more of a challenge, only use other TensorFlow packages.\n",
    "\n",
    "**Note:** Activation, softmax, or cross entropy should **not** be applied to this."
   ]
  },
  {
   "cell_type": "code",
   "execution_count": 87,
   "metadata": {},
   "outputs": [
    {
     "name": "stdout",
     "output_type": "stream",
     "text": [
      "Tests Passed\n"
     ]
    }
   ],
   "source": [
    "def output(x_tensor, num_outputs):\n",
    "    \"\"\"\n",
    "    Apply a output layer to x_tensor using weight and bias\n",
    "    : x_tensor: A 2-D tensor where the first dimension is batch size.\n",
    "    : num_outputs: The number of output that the new tensor should be.\n",
    "    : return: A 2-D tensor where the second dimension is num_outputs.\n",
    "    \"\"\"\n",
    "    shape = x_tensor.get_shape().as_list()    \n",
    "    \n",
    "    random_normal = tf.random_normal([shape[1], num_outputs], mean=0.0, stddev=0.1)\n",
    "    weight = tf.Variable(random_normal)\n",
    "    bias = tf.Variable(tf.zeros([num_outputs]))\n",
    "    \n",
    "    return tf.add(tf.matmul(x_tensor, weight), bias)\n",
    "\n",
    "\"\"\"\n",
    "DON'T MODIFY ANYTHING IN THIS CELL THAT IS BELOW THIS LINE\n",
    "\"\"\"\n",
    "tests.test_output(output)"
   ]
  },
  {
   "cell_type": "markdown",
   "metadata": {},
   "source": [
    "### Create Convolutional Model\n",
    "Implement the function `conv_net` to create a convolutional neural network model. The function takes in a batch of images, `x`, and outputs logits.  Use the layers you created above to create this model:\n",
    "\n",
    "* Apply 1, 2, or 3 Convolution and Max Pool layers\n",
    "* Apply a Flatten Layer\n",
    "* Apply 1, 2, or 3 Fully Connected Layers\n",
    "* Apply an Output Layer\n",
    "* Return the output\n",
    "* Apply [TensorFlow's Dropout](https://www.tensorflow.org/api_docs/python/tf/nn/dropout) to one or more layers in the model using `keep_prob`. "
   ]
  },
  {
   "cell_type": "code",
   "execution_count": 90,
   "metadata": {},
   "outputs": [
    {
     "name": "stdout",
     "output_type": "stream",
     "text": [
      "Neural Network Built!\n"
     ]
    }
   ],
   "source": [
    "def conv_net(x, keep_prob):\n",
    "    \"\"\"\n",
    "    Create a convolutional neural network model\n",
    "    : x: Placeholder tensor that holds image data.\n",
    "    : keep_prob: Placeholder tensor that hold dropout keep probability.\n",
    "    : return: Tensor that represents logits\n",
    "    \"\"\"\n",
    "    # Apply 1, 2, or 3 Convolution and Max Pool layers\n",
    "    #    Play around with different number of outputs, kernel size and stride\n",
    "    # Function Definition from Above:\n",
    "    #    conv2d_maxpool(x_tensor, conv_num_outputs, conv_ksize, conv_strides, pool_ksize, pool_strides)\n",
    "    conv = {\n",
    "        'outputs': 18,\n",
    "        'ksize': (4, 4),\n",
    "        'strides': (1, 1)\n",
    "    }\n",
    "    \n",
    "    pool = {\n",
    "        'ksize': (8, 8),\n",
    "        'strides': (1, 1)\n",
    "    }\n",
    "    \n",
    "    model = conv2d_maxpool(x, conv['outputs'], conv['ksize'], conv['strides'], pool['ksize'], pool['strides'])    \n",
    "\n",
    "    # TODO: Apply a Flatten Layer\n",
    "    # Function Definition from Above:\n",
    "    #   flatten(x_tensor)\n",
    "    model = flatten(model)\n",
    "\n",
    "    # TODO: Apply 1, 2, or 3 Fully Connected Layers\n",
    "    #    Play around with different number of outputs\n",
    "    # Function Definition from Above:\n",
    "    #   fully_conn(x_tensor, num_outputs)\n",
    "    model = fully_conn(model, 200)\n",
    "    model = tf.nn.dropout(model, keep_prob)\n",
    "    \n",
    "    # TODO: Apply an Output Layer\n",
    "    #    Set this to the number of classes\n",
    "    # Function Definition from Above:\n",
    "    #   output(x_tensor, num_outputs)\n",
    "    model = output(model,10)\n",
    "    \n",
    "    return model\n",
    "\n",
    "\"\"\"\n",
    "DON'T MODIFY ANYTHING IN THIS CELL THAT IS BELOW THIS LINE\n",
    "\"\"\"\n",
    "\n",
    "##############################\n",
    "## Build the Neural Network ##\n",
    "##############################\n",
    "\n",
    "# Remove previous weights, bias, inputs, etc..\n",
    "tf.reset_default_graph()\n",
    "\n",
    "# Inputs\n",
    "x = neural_net_image_input((32, 32, 3))\n",
    "y = neural_net_label_input(10)\n",
    "keep_prob = neural_net_keep_prob_input()\n",
    "\n",
    "# Model\n",
    "logits = conv_net(x, keep_prob)\n",
    "\n",
    "# Name logits Tensor, so that is can be loaded from disk after training\n",
    "logits = tf.identity(logits, name='logits')\n",
    "\n",
    "# Loss and Optimizer\n",
    "cost = tf.reduce_mean(tf.nn.softmax_cross_entropy_with_logits(logits=logits, labels=y))\n",
    "optimizer = tf.train.AdamOptimizer().minimize(cost)\n",
    "\n",
    "# Accuracy\n",
    "correct_pred = tf.equal(tf.argmax(logits, 1), tf.argmax(y, 1))\n",
    "accuracy = tf.reduce_mean(tf.cast(correct_pred, tf.float32), name='accuracy')\n",
    "\n",
    "tests.test_conv_net(conv_net)"
   ]
  },
  {
   "cell_type": "markdown",
   "metadata": {},
   "source": [
    "## Train the Neural Network\n",
    "### Single Optimization\n",
    "Implement the function `train_neural_network` to do a single optimization.  The optimization should use `optimizer` to optimize in `session` with a `feed_dict` of the following:\n",
    "* `x` for image input\n",
    "* `y` for labels\n",
    "* `keep_prob` for keep probability for dropout\n",
    "\n",
    "This function will be called for each batch, so `tf.global_variables_initializer()` has already been called.\n",
    "\n",
    "Note: Nothing needs to be returned. This function is only optimizing the neural network."
   ]
  },
  {
   "cell_type": "code",
   "execution_count": 91,
   "metadata": {},
   "outputs": [
    {
     "name": "stdout",
     "output_type": "stream",
     "text": [
      "Tests Passed\n"
     ]
    }
   ],
   "source": [
    "def train_neural_network(session, optimizer, keep_probability, feature_batch, label_batch):\n",
    "    \"\"\"\n",
    "    Optimize the session on a batch of images and labels\n",
    "    : session: Current TensorFlow session\n",
    "    : optimizer: TensorFlow optimizer function\n",
    "    : keep_probability: keep probability\n",
    "    : feature_batch: Batch of Numpy image data\n",
    "    : label_batch: Batch of Numpy label data\n",
    "    \"\"\"\n",
    "    session.run(optimizer, feed_dict={x:feature_batch, y:label_batch, keep_prob:keep_probability})\n",
    "\n",
    "\"\"\"\n",
    "DON'T MODIFY ANYTHING IN THIS CELL THAT IS BELOW THIS LINE\n",
    "\"\"\"\n",
    "tests.test_train_nn(train_neural_network)"
   ]
  },
  {
   "cell_type": "markdown",
   "metadata": {},
   "source": [
    "### Show Stats\n",
    "Implement the function `print_stats` to print loss and validation accuracy.  Use the global variables `valid_features` and `valid_labels` to calculate validation accuracy.  Use a keep probability of `1.0` to calculate the loss and validation accuracy."
   ]
  },
  {
   "cell_type": "code",
   "execution_count": 101,
   "metadata": {
    "collapsed": true
   },
   "outputs": [],
   "source": [
    "def print_stats(session, feature_batch, label_batch, cost, accuracy):\n",
    "    \"\"\"\n",
    "    Print information about loss and validation accuracy\n",
    "    : session: Current TensorFlow session\n",
    "    : feature_batch: Batch of Numpy image data\n",
    "    : label_batch: Batch of Numpy label data\n",
    "    : cost: TensorFlow cost function\n",
    "    : accuracy: TensorFlow accuracy function\n",
    "    \"\"\"\n",
    "    loss = session.run(cost, feed_dict={\n",
    "            x: feature_batch,\n",
    "            y: label_batch,\n",
    "            keep_prob: 1.})\n",
    "    \n",
    "    valid_accuracy = session.run(accuracy, feed_dict={\n",
    "            x: valid_features,\n",
    "            y: valid_labels,\n",
    "            keep_prob: 1.})\n",
    "    \n",
    "    print('Loss: {:6.4f} Accuracy: {:.6f}'.format(loss, valid_accuracy))"
   ]
  },
  {
   "cell_type": "markdown",
   "metadata": {},
   "source": [
    "### Hyperparameters\n",
    "Tune the following parameters:\n",
    "* Set `epochs` to the number of iterations until the network stops learning or start overfitting\n",
    "* Set `batch_size` to the highest number that your machine has memory for.  Most people set them to common sizes of memory:\n",
    " * 64\n",
    " * 128\n",
    " * 256\n",
    " * ...\n",
    "* Set `keep_probability` to the probability of keeping a node using dropout"
   ]
  },
  {
   "cell_type": "code",
   "execution_count": 105,
   "metadata": {
    "collapsed": true
   },
   "outputs": [],
   "source": [
    "# Tune Parameters\n",
    "epochs = 50\n",
    "batch_size = 1024\n",
    "keep_probability = 0.5"
   ]
  },
  {
   "cell_type": "markdown",
   "metadata": {},
   "source": [
    "### Train on a Single CIFAR-10 Batch\n",
    "Instead of training the neural network on all the CIFAR-10 batches of data, let's use a single batch. This should save time while you iterate on the model to get a better accuracy.  Once the final validation accuracy is 50% or greater, run the model on all the data in the next section."
   ]
  },
  {
   "cell_type": "code",
   "execution_count": 106,
   "metadata": {},
   "outputs": [
    {
     "name": "stdout",
     "output_type": "stream",
     "text": [
      "Checking the Training on a Single Batch...\n",
      "Epoch  1, CIFAR-10 Batch 1:  Loss: 2.2693 Accuracy: 0.135800\n",
      "Epoch  2, CIFAR-10 Batch 1:  Loss: 2.2475 Accuracy: 0.158800\n",
      "Epoch  3, CIFAR-10 Batch 1:  Loss: 2.2231 Accuracy: 0.169200\n",
      "Epoch  4, CIFAR-10 Batch 1:  Loss: 2.1632 Accuracy: 0.229400\n",
      "Epoch  5, CIFAR-10 Batch 1:  Loss: 2.0554 Accuracy: 0.261200\n",
      "Epoch  6, CIFAR-10 Batch 1:  Loss: 1.9628 Accuracy: 0.295400\n",
      "Epoch  7, CIFAR-10 Batch 1:  Loss: 1.8341 Accuracy: 0.340200\n",
      "Epoch  8, CIFAR-10 Batch 1:  Loss: 1.7531 Accuracy: 0.375000\n",
      "Epoch  9, CIFAR-10 Batch 1:  Loss: 1.7077 Accuracy: 0.408400\n",
      "Epoch 10, CIFAR-10 Batch 1:  Loss: 1.6544 Accuracy: 0.425200\n",
      "Epoch 11, CIFAR-10 Batch 1:  Loss: 1.5759 Accuracy: 0.446800\n",
      "Epoch 12, CIFAR-10 Batch 1:  Loss: 1.5328 Accuracy: 0.460200\n",
      "Epoch 13, CIFAR-10 Batch 1:  Loss: 1.5427 Accuracy: 0.469600\n",
      "Epoch 14, CIFAR-10 Batch 1:  Loss: 1.4868 Accuracy: 0.484000\n",
      "Epoch 15, CIFAR-10 Batch 1:  Loss: 1.4437 Accuracy: 0.485200\n",
      "Epoch 16, CIFAR-10 Batch 1:  Loss: 1.4370 Accuracy: 0.495200\n",
      "Epoch 17, CIFAR-10 Batch 1:  Loss: 1.3831 Accuracy: 0.504000\n",
      "Epoch 18, CIFAR-10 Batch 1:  Loss: 1.3781 Accuracy: 0.499600\n",
      "Epoch 19, CIFAR-10 Batch 1:  Loss: 1.3432 Accuracy: 0.514000\n",
      "Epoch 20, CIFAR-10 Batch 1:  Loss: 1.3180 Accuracy: 0.512600\n",
      "Epoch 21, CIFAR-10 Batch 1:  Loss: 1.3127 Accuracy: 0.517200\n",
      "Epoch 22, CIFAR-10 Batch 1:  Loss: 1.3243 Accuracy: 0.520600\n",
      "Epoch 23, CIFAR-10 Batch 1:  Loss: 1.2963 Accuracy: 0.518800\n",
      "Epoch 24, CIFAR-10 Batch 1:  Loss: 1.2685 Accuracy: 0.515800\n",
      "Epoch 25, CIFAR-10 Batch 1:  Loss: 1.2621 Accuracy: 0.521400\n",
      "Epoch 26, CIFAR-10 Batch 1:  Loss: 1.2203 Accuracy: 0.526200\n",
      "Epoch 27, CIFAR-10 Batch 1:  Loss: 1.1940 Accuracy: 0.528600\n",
      "Epoch 28, CIFAR-10 Batch 1:  Loss: 1.1942 Accuracy: 0.532200\n",
      "Epoch 29, CIFAR-10 Batch 1:  Loss: 1.1869 Accuracy: 0.535000\n",
      "Epoch 30, CIFAR-10 Batch 1:  Loss: 1.1769 Accuracy: 0.529800\n",
      "Epoch 31, CIFAR-10 Batch 1:  Loss: 1.1623 Accuracy: 0.538400\n",
      "Epoch 32, CIFAR-10 Batch 1:  Loss: 1.1606 Accuracy: 0.543800\n",
      "Epoch 33, CIFAR-10 Batch 1:  Loss: 1.1417 Accuracy: 0.548800\n",
      "Epoch 34, CIFAR-10 Batch 1:  Loss: 1.1183 Accuracy: 0.546600\n",
      "Epoch 35, CIFAR-10 Batch 1:  Loss: 1.1141 Accuracy: 0.540800\n",
      "Epoch 36, CIFAR-10 Batch 1:  Loss: 1.1038 Accuracy: 0.546000\n",
      "Epoch 37, CIFAR-10 Batch 1:  Loss: 1.1146 Accuracy: 0.541600\n",
      "Epoch 38, CIFAR-10 Batch 1:  Loss: 1.1004 Accuracy: 0.541200\n",
      "Epoch 39, CIFAR-10 Batch 1:  Loss: 1.0700 Accuracy: 0.552400\n",
      "Epoch 40, CIFAR-10 Batch 1:  Loss: 1.0698 Accuracy: 0.552800\n",
      "Epoch 41, CIFAR-10 Batch 1:  Loss: 1.0533 Accuracy: 0.551000\n",
      "Epoch 42, CIFAR-10 Batch 1:  Loss: 1.0308 Accuracy: 0.553800\n",
      "Epoch 43, CIFAR-10 Batch 1:  Loss: 1.0316 Accuracy: 0.553400\n",
      "Epoch 44, CIFAR-10 Batch 1:  Loss: 1.0265 Accuracy: 0.555200\n",
      "Epoch 45, CIFAR-10 Batch 1:  Loss: 1.0235 Accuracy: 0.550600\n",
      "Epoch 46, CIFAR-10 Batch 1:  Loss: 1.0140 Accuracy: 0.554800\n",
      "Epoch 47, CIFAR-10 Batch 1:  Loss: 1.0032 Accuracy: 0.559600\n",
      "Epoch 48, CIFAR-10 Batch 1:  Loss: 1.0180 Accuracy: 0.553400\n",
      "Epoch 49, CIFAR-10 Batch 1:  Loss: 0.9777 Accuracy: 0.562000\n",
      "Epoch 50, CIFAR-10 Batch 1:  Loss: 0.9740 Accuracy: 0.563600\n"
     ]
    }
   ],
   "source": [
    "\"\"\"\n",
    "DON'T MODIFY ANYTHING IN THIS CELL\n",
    "\"\"\"\n",
    "print('Checking the Training on a Single Batch...')\n",
    "with tf.Session() as sess:\n",
    "    # Initializing the variables\n",
    "    sess.run(tf.global_variables_initializer())\n",
    "    \n",
    "    # Training cycle\n",
    "    for epoch in range(epochs):\n",
    "        batch_i = 1\n",
    "        for batch_features, batch_labels in helper.load_preprocess_training_batch(batch_i, batch_size):\n",
    "            train_neural_network(sess, optimizer, keep_probability, batch_features, batch_labels)\n",
    "        print('Epoch {:>2}, CIFAR-10 Batch {}:  '.format(epoch + 1, batch_i), end='')\n",
    "        print_stats(sess, batch_features, batch_labels, cost, accuracy)"
   ]
  },
  {
   "cell_type": "markdown",
   "metadata": {},
   "source": [
    "### Fully Train the Model\n",
    "Now that you got a good accuracy with a single CIFAR-10 batch, try it with all five batches."
   ]
  },
  {
   "cell_type": "code",
   "execution_count": 107,
   "metadata": {},
   "outputs": [
    {
     "name": "stdout",
     "output_type": "stream",
     "text": [
      "Training...\n",
      "Epoch  1, CIFAR-10 Batch 1:  Loss: 2.2251 Accuracy: 0.170200\n",
      "Epoch  1, CIFAR-10 Batch 2:  Loss: 2.1529 Accuracy: 0.226600\n",
      "Epoch  1, CIFAR-10 Batch 3:  Loss: 2.0839 Accuracy: 0.248800\n",
      "Epoch  1, CIFAR-10 Batch 4:  Loss: 1.9469 Accuracy: 0.299400\n",
      "Epoch  1, CIFAR-10 Batch 5:  Loss: 1.8656 Accuracy: 0.357400\n",
      "Epoch  2, CIFAR-10 Batch 1:  Loss: 1.7411 Accuracy: 0.394800\n",
      "Epoch  2, CIFAR-10 Batch 2:  Loss: 1.6790 Accuracy: 0.410400\n",
      "Epoch  2, CIFAR-10 Batch 3:  Loss: 1.6137 Accuracy: 0.421800\n",
      "Epoch  2, CIFAR-10 Batch 4:  Loss: 1.5502 Accuracy: 0.449600\n",
      "Epoch  2, CIFAR-10 Batch 5:  Loss: 1.5422 Accuracy: 0.460800\n",
      "Epoch  3, CIFAR-10 Batch 1:  Loss: 1.4643 Accuracy: 0.482600\n",
      "Epoch  3, CIFAR-10 Batch 2:  Loss: 1.4576 Accuracy: 0.482800\n",
      "Epoch  3, CIFAR-10 Batch 3:  Loss: 1.4056 Accuracy: 0.493000\n",
      "Epoch  3, CIFAR-10 Batch 4:  Loss: 1.3712 Accuracy: 0.506200\n",
      "Epoch  3, CIFAR-10 Batch 5:  Loss: 1.3902 Accuracy: 0.503800\n",
      "Epoch  4, CIFAR-10 Batch 1:  Loss: 1.3501 Accuracy: 0.518000\n",
      "Epoch  4, CIFAR-10 Batch 2:  Loss: 1.3493 Accuracy: 0.521400\n",
      "Epoch  4, CIFAR-10 Batch 3:  Loss: 1.3240 Accuracy: 0.517200\n",
      "Epoch  4, CIFAR-10 Batch 4:  Loss: 1.2772 Accuracy: 0.533600\n",
      "Epoch  4, CIFAR-10 Batch 5:  Loss: 1.2960 Accuracy: 0.531200\n",
      "Epoch  5, CIFAR-10 Batch 1:  Loss: 1.2660 Accuracy: 0.542400\n",
      "Epoch  5, CIFAR-10 Batch 2:  Loss: 1.2526 Accuracy: 0.542800\n",
      "Epoch  5, CIFAR-10 Batch 3:  Loss: 1.2454 Accuracy: 0.542600\n",
      "Epoch  5, CIFAR-10 Batch 4:  Loss: 1.1996 Accuracy: 0.549400\n",
      "Epoch  5, CIFAR-10 Batch 5:  Loss: 1.2195 Accuracy: 0.554800\n",
      "Epoch  6, CIFAR-10 Batch 1:  Loss: 1.2015 Accuracy: 0.558600\n",
      "Epoch  6, CIFAR-10 Batch 2:  Loss: 1.2048 Accuracy: 0.563200\n",
      "Epoch  6, CIFAR-10 Batch 3:  Loss: 1.1809 Accuracy: 0.562600\n",
      "Epoch  6, CIFAR-10 Batch 4:  Loss: 1.1448 Accuracy: 0.563200\n",
      "Epoch  6, CIFAR-10 Batch 5:  Loss: 1.1638 Accuracy: 0.572000\n",
      "Epoch  7, CIFAR-10 Batch 1:  Loss: 1.1744 Accuracy: 0.568800\n",
      "Epoch  7, CIFAR-10 Batch 2:  Loss: 1.1699 Accuracy: 0.580600\n",
      "Epoch  7, CIFAR-10 Batch 3:  Loss: 1.1294 Accuracy: 0.574200\n",
      "Epoch  7, CIFAR-10 Batch 4:  Loss: 1.1275 Accuracy: 0.577200\n",
      "Epoch  7, CIFAR-10 Batch 5:  Loss: 1.1048 Accuracy: 0.583400\n",
      "Epoch  8, CIFAR-10 Batch 1:  Loss: 1.1278 Accuracy: 0.581000\n",
      "Epoch  8, CIFAR-10 Batch 2:  Loss: 1.1277 Accuracy: 0.584600\n",
      "Epoch  8, CIFAR-10 Batch 3:  Loss: 1.1057 Accuracy: 0.583000\n",
      "Epoch  8, CIFAR-10 Batch 4:  Loss: 1.1035 Accuracy: 0.584400\n",
      "Epoch  8, CIFAR-10 Batch 5:  Loss: 1.0763 Accuracy: 0.592200\n",
      "Epoch  9, CIFAR-10 Batch 1:  Loss: 1.1113 Accuracy: 0.590800\n",
      "Epoch  9, CIFAR-10 Batch 2:  Loss: 1.0949 Accuracy: 0.593800\n",
      "Epoch  9, CIFAR-10 Batch 3:  Loss: 1.0642 Accuracy: 0.593200\n",
      "Epoch  9, CIFAR-10 Batch 4:  Loss: 1.0508 Accuracy: 0.595000\n",
      "Epoch  9, CIFAR-10 Batch 5:  Loss: 1.0430 Accuracy: 0.597200\n",
      "Epoch 10, CIFAR-10 Batch 1:  Loss: 1.0748 Accuracy: 0.602200\n",
      "Epoch 10, CIFAR-10 Batch 2:  Loss: 1.0606 Accuracy: 0.600400\n",
      "Epoch 10, CIFAR-10 Batch 3:  Loss: 1.0370 Accuracy: 0.596000\n",
      "Epoch 10, CIFAR-10 Batch 4:  Loss: 1.0496 Accuracy: 0.601000\n",
      "Epoch 10, CIFAR-10 Batch 5:  Loss: 1.0209 Accuracy: 0.596400\n",
      "Epoch 11, CIFAR-10 Batch 1:  Loss: 1.0587 Accuracy: 0.608800\n",
      "Epoch 11, CIFAR-10 Batch 2:  Loss: 1.0488 Accuracy: 0.599400\n",
      "Epoch 11, CIFAR-10 Batch 3:  Loss: 1.0096 Accuracy: 0.602000\n",
      "Epoch 11, CIFAR-10 Batch 4:  Loss: 1.0243 Accuracy: 0.609000\n",
      "Epoch 11, CIFAR-10 Batch 5:  Loss: 1.0033 Accuracy: 0.609800\n",
      "Epoch 12, CIFAR-10 Batch 1:  Loss: 1.0507 Accuracy: 0.611800\n",
      "Epoch 12, CIFAR-10 Batch 2:  Loss: 1.0253 Accuracy: 0.607800\n",
      "Epoch 12, CIFAR-10 Batch 3:  Loss: 0.9766 Accuracy: 0.609800\n",
      "Epoch 12, CIFAR-10 Batch 4:  Loss: 1.0216 Accuracy: 0.615000\n",
      "Epoch 12, CIFAR-10 Batch 5:  Loss: 0.9710 Accuracy: 0.611000\n",
      "Epoch 13, CIFAR-10 Batch 1:  Loss: 1.0333 Accuracy: 0.616000\n",
      "Epoch 13, CIFAR-10 Batch 2:  Loss: 1.0034 Accuracy: 0.617800\n",
      "Epoch 13, CIFAR-10 Batch 3:  Loss: 0.9822 Accuracy: 0.617000\n",
      "Epoch 13, CIFAR-10 Batch 4:  Loss: 0.9972 Accuracy: 0.617800\n",
      "Epoch 13, CIFAR-10 Batch 5:  Loss: 0.9536 Accuracy: 0.617600\n",
      "Epoch 14, CIFAR-10 Batch 1:  Loss: 0.9979 Accuracy: 0.622400\n",
      "Epoch 14, CIFAR-10 Batch 2:  Loss: 0.9926 Accuracy: 0.618000\n",
      "Epoch 14, CIFAR-10 Batch 3:  Loss: 0.9514 Accuracy: 0.623800\n",
      "Epoch 14, CIFAR-10 Batch 4:  Loss: 0.9655 Accuracy: 0.622600\n",
      "Epoch 14, CIFAR-10 Batch 5:  Loss: 0.9248 Accuracy: 0.623200\n",
      "Epoch 15, CIFAR-10 Batch 1:  Loss: 0.9950 Accuracy: 0.624200\n",
      "Epoch 15, CIFAR-10 Batch 2:  Loss: 0.9698 Accuracy: 0.622800\n",
      "Epoch 15, CIFAR-10 Batch 3:  Loss: 0.9356 Accuracy: 0.633400\n",
      "Epoch 15, CIFAR-10 Batch 4:  Loss: 0.9557 Accuracy: 0.632000\n",
      "Epoch 15, CIFAR-10 Batch 5:  Loss: 0.9116 Accuracy: 0.629000\n",
      "Epoch 16, CIFAR-10 Batch 1:  Loss: 0.9796 Accuracy: 0.627200\n",
      "Epoch 16, CIFAR-10 Batch 2:  Loss: 0.9421 Accuracy: 0.631400\n",
      "Epoch 16, CIFAR-10 Batch 3:  Loss: 0.9303 Accuracy: 0.634800\n",
      "Epoch 16, CIFAR-10 Batch 4:  Loss: 0.9329 Accuracy: 0.628400\n",
      "Epoch 16, CIFAR-10 Batch 5:  Loss: 0.8979 Accuracy: 0.625800\n",
      "Epoch 17, CIFAR-10 Batch 1:  Loss: 0.9562 Accuracy: 0.631600\n",
      "Epoch 17, CIFAR-10 Batch 2:  Loss: 0.9356 Accuracy: 0.632600\n",
      "Epoch 17, CIFAR-10 Batch 3:  Loss: 0.9188 Accuracy: 0.633000\n",
      "Epoch 17, CIFAR-10 Batch 4:  Loss: 0.9279 Accuracy: 0.630600\n",
      "Epoch 17, CIFAR-10 Batch 5:  Loss: 0.8793 Accuracy: 0.634800\n",
      "Epoch 18, CIFAR-10 Batch 1:  Loss: 0.9419 Accuracy: 0.636800\n",
      "Epoch 18, CIFAR-10 Batch 2:  Loss: 0.9323 Accuracy: 0.628000\n",
      "Epoch 18, CIFAR-10 Batch 3:  Loss: 0.9069 Accuracy: 0.633400\n",
      "Epoch 18, CIFAR-10 Batch 4:  Loss: 0.9129 Accuracy: 0.636600\n",
      "Epoch 18, CIFAR-10 Batch 5:  Loss: 0.8612 Accuracy: 0.639600\n",
      "Epoch 19, CIFAR-10 Batch 1:  Loss: 0.9277 Accuracy: 0.640000\n",
      "Epoch 19, CIFAR-10 Batch 2:  Loss: 0.9053 Accuracy: 0.635400\n",
      "Epoch 19, CIFAR-10 Batch 3:  Loss: 0.8963 Accuracy: 0.637400\n",
      "Epoch 19, CIFAR-10 Batch 4:  Loss: 0.9062 Accuracy: 0.639800\n",
      "Epoch 19, CIFAR-10 Batch 5:  Loss: 0.8648 Accuracy: 0.638400\n",
      "Epoch 20, CIFAR-10 Batch 1:  Loss: 0.9283 Accuracy: 0.633200\n",
      "Epoch 20, CIFAR-10 Batch 2:  Loss: 0.8986 Accuracy: 0.632600\n",
      "Epoch 20, CIFAR-10 Batch 3:  Loss: 0.8894 Accuracy: 0.636600\n",
      "Epoch 20, CIFAR-10 Batch 4:  Loss: 0.8919 Accuracy: 0.647400\n",
      "Epoch 20, CIFAR-10 Batch 5:  Loss: 0.8341 Accuracy: 0.640400\n",
      "Epoch 21, CIFAR-10 Batch 1:  Loss: 0.9257 Accuracy: 0.640400\n",
      "Epoch 21, CIFAR-10 Batch 2:  Loss: 0.8780 Accuracy: 0.640800\n",
      "Epoch 21, CIFAR-10 Batch 3:  Loss: 0.8916 Accuracy: 0.641400\n",
      "Epoch 21, CIFAR-10 Batch 4:  Loss: 0.8869 Accuracy: 0.640800\n",
      "Epoch 21, CIFAR-10 Batch 5:  Loss: 0.8187 Accuracy: 0.639400\n",
      "Epoch 22, CIFAR-10 Batch 1:  Loss: 0.8903 Accuracy: 0.643600\n",
      "Epoch 22, CIFAR-10 Batch 2:  Loss: 0.8661 Accuracy: 0.641800\n",
      "Epoch 22, CIFAR-10 Batch 3:  Loss: 0.8543 Accuracy: 0.644400\n",
      "Epoch 22, CIFAR-10 Batch 4:  Loss: 0.8709 Accuracy: 0.645200\n",
      "Epoch 22, CIFAR-10 Batch 5:  Loss: 0.8036 Accuracy: 0.648000\n",
      "Epoch 23, CIFAR-10 Batch 1:  Loss: 0.8850 Accuracy: 0.643800\n",
      "Epoch 23, CIFAR-10 Batch 2:  Loss: 0.8551 Accuracy: 0.640800\n",
      "Epoch 23, CIFAR-10 Batch 3:  Loss: 0.8495 Accuracy: 0.646000\n",
      "Epoch 23, CIFAR-10 Batch 4:  Loss: 0.8531 Accuracy: 0.647800\n",
      "Epoch 23, CIFAR-10 Batch 5:  Loss: 0.7907 Accuracy: 0.649400\n",
      "Epoch 24, CIFAR-10 Batch 1:  Loss: 0.8806 Accuracy: 0.642200\n",
      "Epoch 24, CIFAR-10 Batch 2:  Loss: 0.8480 Accuracy: 0.645200\n",
      "Epoch 24, CIFAR-10 Batch 3:  Loss: 0.8623 Accuracy: 0.645200\n",
      "Epoch 24, CIFAR-10 Batch 4:  Loss: 0.8584 Accuracy: 0.644600\n",
      "Epoch 24, CIFAR-10 Batch 5:  Loss: 0.7762 Accuracy: 0.650600\n",
      "Epoch 25, CIFAR-10 Batch 1:  Loss: 0.8632 Accuracy: 0.645200\n",
      "Epoch 25, CIFAR-10 Batch 2:  Loss: 0.8479 Accuracy: 0.643600\n",
      "Epoch 25, CIFAR-10 Batch 3:  Loss: 0.8293 Accuracy: 0.648800\n",
      "Epoch 25, CIFAR-10 Batch 4:  Loss: 0.8448 Accuracy: 0.646600\n",
      "Epoch 25, CIFAR-10 Batch 5:  Loss: 0.7666 Accuracy: 0.647000\n",
      "Epoch 26, CIFAR-10 Batch 1:  Loss: 0.8485 Accuracy: 0.653600\n",
      "Epoch 26, CIFAR-10 Batch 2:  Loss: 0.8405 Accuracy: 0.653400\n",
      "Epoch 26, CIFAR-10 Batch 3:  Loss: 0.8141 Accuracy: 0.646400\n",
      "Epoch 26, CIFAR-10 Batch 4:  Loss: 0.8358 Accuracy: 0.645400\n",
      "Epoch 26, CIFAR-10 Batch 5:  Loss: 0.7612 Accuracy: 0.651200\n",
      "Epoch 27, CIFAR-10 Batch 1:  Loss: 0.8295 Accuracy: 0.654800\n",
      "Epoch 27, CIFAR-10 Batch 2:  Loss: 0.8194 Accuracy: 0.649000\n",
      "Epoch 27, CIFAR-10 Batch 3:  Loss: 0.8322 Accuracy: 0.645200\n",
      "Epoch 27, CIFAR-10 Batch 4:  Loss: 0.8132 Accuracy: 0.650400\n"
     ]
    },
    {
     "name": "stdout",
     "output_type": "stream",
     "text": [
      "Epoch 27, CIFAR-10 Batch 5:  Loss: 0.7467 Accuracy: 0.657800\n",
      "Epoch 28, CIFAR-10 Batch 1:  Loss: 0.8208 Accuracy: 0.653400\n",
      "Epoch 28, CIFAR-10 Batch 2:  Loss: 0.8116 Accuracy: 0.649200\n",
      "Epoch 28, CIFAR-10 Batch 3:  Loss: 0.8067 Accuracy: 0.652800\n",
      "Epoch 28, CIFAR-10 Batch 4:  Loss: 0.8073 Accuracy: 0.653200\n",
      "Epoch 28, CIFAR-10 Batch 5:  Loss: 0.7275 Accuracy: 0.659000\n",
      "Epoch 29, CIFAR-10 Batch 1:  Loss: 0.8139 Accuracy: 0.652400\n",
      "Epoch 29, CIFAR-10 Batch 2:  Loss: 0.7980 Accuracy: 0.654600\n",
      "Epoch 29, CIFAR-10 Batch 3:  Loss: 0.7837 Accuracy: 0.653600\n",
      "Epoch 29, CIFAR-10 Batch 4:  Loss: 0.8159 Accuracy: 0.655200\n",
      "Epoch 29, CIFAR-10 Batch 5:  Loss: 0.7433 Accuracy: 0.652000\n",
      "Epoch 30, CIFAR-10 Batch 1:  Loss: 0.8024 Accuracy: 0.658400\n",
      "Epoch 30, CIFAR-10 Batch 2:  Loss: 0.7995 Accuracy: 0.655200\n",
      "Epoch 30, CIFAR-10 Batch 3:  Loss: 0.7844 Accuracy: 0.658600\n",
      "Epoch 30, CIFAR-10 Batch 4:  Loss: 0.7908 Accuracy: 0.652200\n",
      "Epoch 30, CIFAR-10 Batch 5:  Loss: 0.7299 Accuracy: 0.650400\n",
      "Epoch 31, CIFAR-10 Batch 1:  Loss: 0.8136 Accuracy: 0.658600\n",
      "Epoch 31, CIFAR-10 Batch 2:  Loss: 0.7928 Accuracy: 0.649800\n",
      "Epoch 31, CIFAR-10 Batch 3:  Loss: 0.7796 Accuracy: 0.665600\n",
      "Epoch 31, CIFAR-10 Batch 4:  Loss: 0.7886 Accuracy: 0.654000\n",
      "Epoch 31, CIFAR-10 Batch 5:  Loss: 0.7065 Accuracy: 0.662400\n",
      "Epoch 32, CIFAR-10 Batch 1:  Loss: 0.7962 Accuracy: 0.661200\n",
      "Epoch 32, CIFAR-10 Batch 2:  Loss: 0.7745 Accuracy: 0.657200\n",
      "Epoch 32, CIFAR-10 Batch 3:  Loss: 0.7659 Accuracy: 0.656800\n",
      "Epoch 32, CIFAR-10 Batch 4:  Loss: 0.7884 Accuracy: 0.657400\n",
      "Epoch 32, CIFAR-10 Batch 5:  Loss: 0.6963 Accuracy: 0.657000\n",
      "Epoch 33, CIFAR-10 Batch 1:  Loss: 0.7892 Accuracy: 0.659600\n",
      "Epoch 33, CIFAR-10 Batch 2:  Loss: 0.7848 Accuracy: 0.658200\n",
      "Epoch 33, CIFAR-10 Batch 3:  Loss: 0.7542 Accuracy: 0.655600\n",
      "Epoch 33, CIFAR-10 Batch 4:  Loss: 0.7792 Accuracy: 0.659200\n",
      "Epoch 33, CIFAR-10 Batch 5:  Loss: 0.7046 Accuracy: 0.657800\n",
      "Epoch 34, CIFAR-10 Batch 1:  Loss: 0.7759 Accuracy: 0.656600\n",
      "Epoch 34, CIFAR-10 Batch 2:  Loss: 0.7618 Accuracy: 0.660600\n",
      "Epoch 34, CIFAR-10 Batch 3:  Loss: 0.7498 Accuracy: 0.657600\n",
      "Epoch 34, CIFAR-10 Batch 4:  Loss: 0.7645 Accuracy: 0.658400\n",
      "Epoch 34, CIFAR-10 Batch 5:  Loss: 0.6816 Accuracy: 0.661200\n",
      "Epoch 35, CIFAR-10 Batch 1:  Loss: 0.7652 Accuracy: 0.658600\n",
      "Epoch 35, CIFAR-10 Batch 2:  Loss: 0.7596 Accuracy: 0.658200\n",
      "Epoch 35, CIFAR-10 Batch 3:  Loss: 0.7313 Accuracy: 0.659800\n",
      "Epoch 35, CIFAR-10 Batch 4:  Loss: 0.7575 Accuracy: 0.656800\n",
      "Epoch 35, CIFAR-10 Batch 5:  Loss: 0.6889 Accuracy: 0.660800\n",
      "Epoch 36, CIFAR-10 Batch 1:  Loss: 0.7783 Accuracy: 0.656200\n",
      "Epoch 36, CIFAR-10 Batch 2:  Loss: 0.7433 Accuracy: 0.665200\n",
      "Epoch 36, CIFAR-10 Batch 3:  Loss: 0.7418 Accuracy: 0.662400\n",
      "Epoch 36, CIFAR-10 Batch 4:  Loss: 0.7368 Accuracy: 0.661200\n",
      "Epoch 36, CIFAR-10 Batch 5:  Loss: 0.6688 Accuracy: 0.660600\n",
      "Epoch 37, CIFAR-10 Batch 1:  Loss: 0.7561 Accuracy: 0.662600\n",
      "Epoch 37, CIFAR-10 Batch 2:  Loss: 0.7440 Accuracy: 0.658000\n",
      "Epoch 37, CIFAR-10 Batch 3:  Loss: 0.7149 Accuracy: 0.657400\n",
      "Epoch 37, CIFAR-10 Batch 4:  Loss: 0.7484 Accuracy: 0.660200\n",
      "Epoch 37, CIFAR-10 Batch 5:  Loss: 0.6707 Accuracy: 0.658200\n",
      "Epoch 38, CIFAR-10 Batch 1:  Loss: 0.7403 Accuracy: 0.662800\n",
      "Epoch 38, CIFAR-10 Batch 2:  Loss: 0.7260 Accuracy: 0.661200\n",
      "Epoch 38, CIFAR-10 Batch 3:  Loss: 0.7269 Accuracy: 0.661400\n",
      "Epoch 38, CIFAR-10 Batch 4:  Loss: 0.7367 Accuracy: 0.660400\n",
      "Epoch 38, CIFAR-10 Batch 5:  Loss: 0.6706 Accuracy: 0.657200\n",
      "Epoch 39, CIFAR-10 Batch 1:  Loss: 0.7518 Accuracy: 0.660000\n",
      "Epoch 39, CIFAR-10 Batch 2:  Loss: 0.7333 Accuracy: 0.658000\n",
      "Epoch 39, CIFAR-10 Batch 3:  Loss: 0.7440 Accuracy: 0.660400\n",
      "Epoch 39, CIFAR-10 Batch 4:  Loss: 0.7369 Accuracy: 0.657400\n",
      "Epoch 39, CIFAR-10 Batch 5:  Loss: 0.6529 Accuracy: 0.666000\n",
      "Epoch 40, CIFAR-10 Batch 1:  Loss: 0.7482 Accuracy: 0.660800\n",
      "Epoch 40, CIFAR-10 Batch 2:  Loss: 0.7254 Accuracy: 0.657800\n",
      "Epoch 40, CIFAR-10 Batch 3:  Loss: 0.7146 Accuracy: 0.654600\n",
      "Epoch 40, CIFAR-10 Batch 4:  Loss: 0.7281 Accuracy: 0.660400\n",
      "Epoch 40, CIFAR-10 Batch 5:  Loss: 0.6546 Accuracy: 0.661600\n",
      "Epoch 41, CIFAR-10 Batch 1:  Loss: 0.7358 Accuracy: 0.662800\n",
      "Epoch 41, CIFAR-10 Batch 2:  Loss: 0.7080 Accuracy: 0.659800\n",
      "Epoch 41, CIFAR-10 Batch 3:  Loss: 0.7087 Accuracy: 0.661800\n",
      "Epoch 41, CIFAR-10 Batch 4:  Loss: 0.7191 Accuracy: 0.661200\n",
      "Epoch 41, CIFAR-10 Batch 5:  Loss: 0.6456 Accuracy: 0.659800\n",
      "Epoch 42, CIFAR-10 Batch 1:  Loss: 0.7382 Accuracy: 0.656200\n",
      "Epoch 42, CIFAR-10 Batch 2:  Loss: 0.7379 Accuracy: 0.653000\n",
      "Epoch 42, CIFAR-10 Batch 3:  Loss: 0.7110 Accuracy: 0.651800\n",
      "Epoch 42, CIFAR-10 Batch 4:  Loss: 0.7312 Accuracy: 0.658600\n",
      "Epoch 42, CIFAR-10 Batch 5:  Loss: 0.6503 Accuracy: 0.667400\n",
      "Epoch 43, CIFAR-10 Batch 1:  Loss: 0.7196 Accuracy: 0.663800\n",
      "Epoch 43, CIFAR-10 Batch 2:  Loss: 0.7025 Accuracy: 0.655800\n",
      "Epoch 43, CIFAR-10 Batch 3:  Loss: 0.7035 Accuracy: 0.660000\n",
      "Epoch 43, CIFAR-10 Batch 4:  Loss: 0.7039 Accuracy: 0.658600\n",
      "Epoch 43, CIFAR-10 Batch 5:  Loss: 0.6390 Accuracy: 0.659800\n",
      "Epoch 44, CIFAR-10 Batch 1:  Loss: 0.7247 Accuracy: 0.662400\n",
      "Epoch 44, CIFAR-10 Batch 2:  Loss: 0.6993 Accuracy: 0.661200\n",
      "Epoch 44, CIFAR-10 Batch 3:  Loss: 0.7186 Accuracy: 0.651000\n",
      "Epoch 44, CIFAR-10 Batch 4:  Loss: 0.7061 Accuracy: 0.660000\n",
      "Epoch 44, CIFAR-10 Batch 5:  Loss: 0.6318 Accuracy: 0.660200\n",
      "Epoch 45, CIFAR-10 Batch 1:  Loss: 0.7072 Accuracy: 0.664800\n",
      "Epoch 45, CIFAR-10 Batch 2:  Loss: 0.7052 Accuracy: 0.659400\n",
      "Epoch 45, CIFAR-10 Batch 3:  Loss: 0.7297 Accuracy: 0.652600\n",
      "Epoch 45, CIFAR-10 Batch 4:  Loss: 0.7124 Accuracy: 0.658200\n",
      "Epoch 45, CIFAR-10 Batch 5:  Loss: 0.6359 Accuracy: 0.667200\n",
      "Epoch 46, CIFAR-10 Batch 1:  Loss: 0.6979 Accuracy: 0.668000\n",
      "Epoch 46, CIFAR-10 Batch 2:  Loss: 0.6856 Accuracy: 0.663600\n",
      "Epoch 46, CIFAR-10 Batch 3:  Loss: 0.6835 Accuracy: 0.663600\n",
      "Epoch 46, CIFAR-10 Batch 4:  Loss: 0.7066 Accuracy: 0.658800\n",
      "Epoch 46, CIFAR-10 Batch 5:  Loss: 0.6287 Accuracy: 0.665200\n",
      "Epoch 47, CIFAR-10 Batch 1:  Loss: 0.6940 Accuracy: 0.671200\n",
      "Epoch 47, CIFAR-10 Batch 2:  Loss: 0.6893 Accuracy: 0.667000\n",
      "Epoch 47, CIFAR-10 Batch 3:  Loss: 0.6738 Accuracy: 0.662800\n",
      "Epoch 47, CIFAR-10 Batch 4:  Loss: 0.6895 Accuracy: 0.660600\n",
      "Epoch 47, CIFAR-10 Batch 5:  Loss: 0.6208 Accuracy: 0.666000\n",
      "Epoch 48, CIFAR-10 Batch 1:  Loss: 0.6859 Accuracy: 0.672400\n",
      "Epoch 48, CIFAR-10 Batch 2:  Loss: 0.6737 Accuracy: 0.662200\n",
      "Epoch 48, CIFAR-10 Batch 3:  Loss: 0.6697 Accuracy: 0.663400\n",
      "Epoch 48, CIFAR-10 Batch 4:  Loss: 0.6828 Accuracy: 0.662600\n",
      "Epoch 48, CIFAR-10 Batch 5:  Loss: 0.6159 Accuracy: 0.662600\n",
      "Epoch 49, CIFAR-10 Batch 1:  Loss: 0.6718 Accuracy: 0.669600\n",
      "Epoch 49, CIFAR-10 Batch 2:  Loss: 0.6615 Accuracy: 0.668200\n",
      "Epoch 49, CIFAR-10 Batch 3:  Loss: 0.6560 Accuracy: 0.660000\n",
      "Epoch 49, CIFAR-10 Batch 4:  Loss: 0.6673 Accuracy: 0.662200\n",
      "Epoch 49, CIFAR-10 Batch 5:  Loss: 0.6071 Accuracy: 0.665200\n",
      "Epoch 50, CIFAR-10 Batch 1:  Loss: 0.6629 Accuracy: 0.668600\n",
      "Epoch 50, CIFAR-10 Batch 2:  Loss: 0.6767 Accuracy: 0.663200\n",
      "Epoch 50, CIFAR-10 Batch 3:  Loss: 0.6695 Accuracy: 0.653800\n",
      "Epoch 50, CIFAR-10 Batch 4:  Loss: 0.6724 Accuracy: 0.662400\n",
      "Epoch 50, CIFAR-10 Batch 5:  Loss: 0.5996 Accuracy: 0.663200\n"
     ]
    }
   ],
   "source": [
    "\"\"\"\n",
    "DON'T MODIFY ANYTHING IN THIS CELL\n",
    "\"\"\"\n",
    "save_model_path = './image_classification'\n",
    "\n",
    "print('Training...')\n",
    "with tf.Session() as sess:\n",
    "    # Initializing the variables\n",
    "    sess.run(tf.global_variables_initializer())\n",
    "    \n",
    "    # Training cycle\n",
    "    for epoch in range(epochs):\n",
    "        # Loop over all batches\n",
    "        n_batches = 5\n",
    "        for batch_i in range(1, n_batches + 1):\n",
    "            for batch_features, batch_labels in helper.load_preprocess_training_batch(batch_i, batch_size):\n",
    "                train_neural_network(sess, optimizer, keep_probability, batch_features, batch_labels)\n",
    "            print('Epoch {:>2}, CIFAR-10 Batch {}:  '.format(epoch + 1, batch_i), end='')\n",
    "            print_stats(sess, batch_features, batch_labels, cost, accuracy)\n",
    "            \n",
    "    # Save Model\n",
    "    saver = tf.train.Saver()\n",
    "    save_path = saver.save(sess, save_model_path)"
   ]
  },
  {
   "cell_type": "markdown",
   "metadata": {},
   "source": [
    "# Checkpoint\n",
    "The model has been saved to disk.\n",
    "## Test Model\n",
    "Test your model against the test dataset.  This will be your final accuracy. You should have an accuracy greater than 50%. If you don't, keep tweaking the model architecture and parameters."
   ]
  },
  {
   "cell_type": "code",
   "execution_count": 108,
   "metadata": {},
   "outputs": [
    {
     "name": "stdout",
     "output_type": "stream",
     "text": [
      "INFO:tensorflow:Restoring parameters from ./image_classification\n",
      "Testing Accuracy: 0.6662687301635742\n",
      "\n"
     ]
    },
    {
     "data": {
      "image/png": "[encoded data removed]",
      "text/plain": [
       "<matplotlib.figure.Figure at 0x7f373ace9128>"
      ]
     },
     "metadata": {
      "image/png": {
       "height": 319,
       "width": 355
      }
     },
     "output_type": "display_data"
    }
   ],
   "source": [
    "\"\"\"\n",
    "DON'T MODIFY ANYTHING IN THIS CELL\n",
    "\"\"\"\n",
    "%matplotlib inline\n",
    "%config InlineBackend.figure_format = 'retina'\n",
    "\n",
    "import tensorflow as tf\n",
    "import pickle\n",
    "import helper\n",
    "import random\n",
    "\n",
    "# Set batch size if not already set\n",
    "try:\n",
    "    if batch_size:\n",
    "        pass\n",
    "except NameError:\n",
    "    batch_size = 64\n",
    "\n",
    "save_model_path = './image_classification'\n",
    "n_samples = 4\n",
    "top_n_predictions = 3\n",
    "\n",
    "def test_model():\n",
    "    \"\"\"\n",
    "    Test the saved model against the test dataset\n",
    "    \"\"\"\n",
    "\n",
    "    test_features, test_labels = pickle.load(open('preprocess_test.p', mode='rb'))\n",
    "    loaded_graph = tf.Graph()\n",
    "\n",
    "    with tf.Session(graph=loaded_graph) as sess:\n",
    "        # Load model\n",
    "        loader = tf.train.import_meta_graph(save_model_path + '.meta')\n",
    "        loader.restore(sess, save_model_path)\n",
    "\n",
    "        # Get Tensors from loaded model\n",
    "        loaded_x = loaded_graph.get_tensor_by_name('x:0')\n",
    "        loaded_y = loaded_graph.get_tensor_by_name('y:0')\n",
    "        loaded_keep_prob = loaded_graph.get_tensor_by_name('keep_prob:0')\n",
    "        loaded_logits = loaded_graph.get_tensor_by_name('logits:0')\n",
    "        loaded_acc = loaded_graph.get_tensor_by_name('accuracy:0')\n",
    "        \n",
    "        # Get accuracy in batches for memory limitations\n",
    "        test_batch_acc_total = 0\n",
    "        test_batch_count = 0\n",
    "        \n",
    "        for test_feature_batch, test_label_batch in helper.batch_features_labels(test_features, test_labels, batch_size):\n",
    "            test_batch_acc_total += sess.run(\n",
    "                loaded_acc,\n",
    "                feed_dict={loaded_x: test_feature_batch, loaded_y: test_label_batch, loaded_keep_prob: 1.0})\n",
    "            test_batch_count += 1\n",
    "\n",
    "        print('Testing Accuracy: {}\\n'.format(test_batch_acc_total/test_batch_count))\n",
    "\n",
    "        # Print Random Samples\n",
    "        random_test_features, random_test_labels = tuple(zip(*random.sample(list(zip(test_features, test_labels)), n_samples)))\n",
    "        random_test_predictions = sess.run(\n",
    "            tf.nn.top_k(tf.nn.softmax(loaded_logits), top_n_predictions),\n",
    "            feed_dict={loaded_x: random_test_features, loaded_y: random_test_labels, loaded_keep_prob: 1.0})\n",
    "        helper.display_image_predictions(random_test_features, random_test_labels, random_test_predictions)\n",
    "\n",
    "\n",
    "test_model()"
   ]
  },
  {
   "cell_type": "markdown",
   "metadata": {},
   "source": [
    "## Why 50-80% Accuracy?\n",
    "You might be wondering why you can't get an accuracy any higher. First things first, 50% isn't bad for a simple CNN.  Pure guessing would get you 10% accuracy. However, you might notice people are getting scores [well above 80%](http://rodrigob.github.io/are_we_there_yet/build/classification_datasets_results.html#43494641522d3130).  That's because we haven't taught you all there is to know about neural networks. We still need to cover a few more techniques.\n",
    "## Submitting This Project\n",
    "When submitting this project, make sure to run all the cells before saving the notebook.  Save the notebook file as \"dlnd_image_classification.ipynb\" and save it as a HTML file under \"File\" -> \"Download as\".  Include the \"helper.py\" and \"problem_unittests.py\" files in your submission."
   ]
  }
 ],
 "metadata": {
  "kernelspec": {
   "display_name": "Python 3",
   "language": "python",
   "name": "python3"
  },
  "language_info": {
   "codemirror_mode": {
    "name": "ipython",
    "version": 3
   },
   "file_extension": ".py",
   "mimetype": "text/x-python",
   "name": "python",
   "nbconvert_exporter": "python",
   "pygments_lexer": "ipython3",
   "version": "3.5.3"
  }
 },
 "nbformat": 4,
 "nbformat_minor": 1
}
