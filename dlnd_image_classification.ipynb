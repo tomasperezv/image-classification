{
 "cells": [
  {
   "cell_type": "markdown",
   "metadata": {
    "collapsed": true
   },
   "source": [
    "# Image Classification\n",
    "In this project, you'll classify images from the [CIFAR-10 dataset](https://www.cs.toronto.edu/~kriz/cifar.html).  The dataset consists of airplanes, dogs, cats, and other objects. You'll preprocess the images, then train a convolutional neural network on all the samples. The images need to be normalized and the labels need to be one-hot encoded.  You'll get to apply what you learned and build a convolutional, max pooling, dropout, and fully connected layers.  At the end, you'll get to see your neural network's predictions on the sample images.\n",
    "## Get the Data\n",
    "Run the following cell to download the [CIFAR-10 dataset for python](https://www.cs.toronto.edu/~kriz/cifar-10-python.tar.gz)."
   ]
  },
  {
   "cell_type": "code",
   "execution_count": 31,
   "metadata": {},
   "outputs": [
    {
     "name": "stdout",
     "output_type": "stream",
     "text": [
      "All files found!\n"
     ]
    }
   ],
   "source": [
    "\"\"\"\n",
    "DON'T MODIFY ANYTHING IN THIS CELL THAT IS BELOW THIS LINE\n",
    "\"\"\"\n",
    "from urllib.request import urlretrieve\n",
    "from os.path import isfile, isdir\n",
    "from tqdm import tqdm\n",
    "import problem_unittests as tests\n",
    "import tarfile\n",
    "\n",
    "cifar10_dataset_folder_path = 'cifar-10-batches-py'\n",
    "\n",
    "# Use Floyd's cifar-10 dataset if present\n",
    "floyd_cifar10_location = '/input/cifar-10/python.tar.gz'\n",
    "if isfile(floyd_cifar10_location):\n",
    "    tar_gz_path = floyd_cifar10_location\n",
    "else:\n",
    "    tar_gz_path = 'cifar-10-python.tar.gz'\n",
    "\n",
    "class DLProgress(tqdm):\n",
    "    last_block = 0\n",
    "\n",
    "    def hook(self, block_num=1, block_size=1, total_size=None):\n",
    "        self.total = total_size\n",
    "        self.update((block_num - self.last_block) * block_size)\n",
    "        self.last_block = block_num\n",
    "\n",
    "if not isfile(tar_gz_path):\n",
    "    with DLProgress(unit='B', unit_scale=True, miniters=1, desc='CIFAR-10 Dataset') as pbar:\n",
    "        urlretrieve(\n",
    "            'https://www.cs.toronto.edu/~kriz/cifar-10-python.tar.gz',\n",
    "            tar_gz_path,\n",
    "            pbar.hook)\n",
    "\n",
    "if not isdir(cifar10_dataset_folder_path):\n",
    "    with tarfile.open(tar_gz_path) as tar:\n",
    "        tar.extractall()\n",
    "        tar.close()\n",
    "\n",
    "\n",
    "tests.test_folder_path(cifar10_dataset_folder_path)"
   ]
  },
  {
   "cell_type": "markdown",
   "metadata": {},
   "source": [
    "## Explore the Data\n",
    "The dataset is broken into batches to prevent your machine from running out of memory.  The CIFAR-10 dataset consists of 5 batches, named `data_batch_1`, `data_batch_2`, etc.. Each batch contains the labels and images that are one of the following:\n",
    "* airplane\n",
    "* automobile\n",
    "* bird\n",
    "* cat\n",
    "* deer\n",
    "* dog\n",
    "* frog\n",
    "* horse\n",
    "* ship\n",
    "* truck\n",
    "\n",
    "Understanding a dataset is part of making predictions on the data.  Play around with the code cell below by changing the `batch_id` and `sample_id`. The `batch_id` is the id for a batch (1-5). The `sample_id` is the id for a image and label pair in the batch.\n",
    "\n",
    "Ask yourself \"What are all possible labels?\", \"What is the range of values for the image data?\", \"Are the labels in order or random?\".  Answers to questions like these will help you preprocess the data and end up with better predictions."
   ]
  },
  {
   "cell_type": "code",
   "execution_count": 32,
   "metadata": {
    "scrolled": true
   },
   "outputs": [
    {
     "name": "stdout",
     "output_type": "stream",
     "text": [
      "\n",
      "Stats of batch 2:\n",
      "Samples: 10000\n",
      "Label Counts: {0: 984, 1: 1007, 2: 1010, 3: 995, 4: 1010, 5: 988, 6: 1008, 7: 1026, 8: 987, 9: 985}\n",
      "First 20 Labels: [1, 6, 6, 8, 8, 3, 4, 6, 0, 6, 0, 3, 6, 6, 5, 4, 8, 3, 2, 6]\n",
      "\n",
      "Example of Image 5:\n",
      "Image - Min Value: 3 Max Value: 219\n",
      "Image - Shape: (32, 32, 3)\n",
      "Label - Label Id: 3 Name: cat\n"
     ]
    },
    {
     "data": {
      "image/png": "[encoded data removed]",
      "text/plain": [
       "<matplotlib.figure.Figure at 0x7f5cee240630>"
      ]
     },
     "metadata": {
      "image/png": {
       "height": 250,
       "width": 253
      }
     },
     "output_type": "display_data"
    }
   ],
   "source": [
    "%matplotlib inline\n",
    "%config InlineBackend.figure_format = 'retina'\n",
    "\n",
    "import helper\n",
    "import numpy as np\n",
    "\n",
    "# Explore the dataset\n",
    "batch_id = 2\n",
    "sample_id = 5\n",
    "helper.display_stats(cifar10_dataset_folder_path, batch_id, sample_id)"
   ]
  },
  {
   "cell_type": "markdown",
   "metadata": {},
   "source": [
    "## Implement Preprocess Functions\n",
    "### Normalize\n",
    "In the cell below, implement the `normalize` function to take in image data, `x`, and return it as a normalized Numpy array. The values should be in the range of 0 to 1, inclusive.  The return object should be the same shape as `x`."
   ]
  },
  {
   "cell_type": "code",
   "execution_count": 33,
   "metadata": {},
   "outputs": [
    {
     "name": "stdout",
     "output_type": "stream",
     "text": [
      "Tests Passed\n"
     ]
    }
   ],
   "source": [
    "def normalize(x):\n",
    "    \"\"\"\n",
    "    Normalize a list of sample image data in the range of 0 to 1\n",
    "    : x: List of image data.  The image shape is (32, 32, 3)\n",
    "    : return: Numpy array of normalize data\n",
    "    \"\"\"\n",
    "    return x / 255\n",
    "\n",
    "\n",
    "\"\"\"\n",
    "DON'T MODIFY ANYTHING IN THIS CELL THAT IS BELOW THIS LINE\n",
    "\"\"\"\n",
    "tests.test_normalize(normalize)"
   ]
  },
  {
   "cell_type": "markdown",
   "metadata": {},
   "source": [
    "### One-hot encode\n",
    "Just like the previous code cell, you'll be implementing a function for preprocessing.  This time, you'll implement the `one_hot_encode` function. The input, `x`, are a list of labels.  Implement the function to return the list of labels as One-Hot encoded Numpy array.  The possible values for labels are 0 to 9. The one-hot encoding function should return the same encoding for each value between each call to `one_hot_encode`.  Make sure to save the map of encodings outside the function.\n",
    "\n",
    "Hint: Don't reinvent the wheel."
   ]
  },
  {
   "cell_type": "code",
   "execution_count": 34,
   "metadata": {},
   "outputs": [
    {
     "name": "stdout",
     "output_type": "stream",
     "text": [
      "Tests Passed\n"
     ]
    }
   ],
   "source": [
    "from sklearn import preprocessing\n",
    "\n",
    "lb = preprocessing.LabelBinarizer()\n",
    "lb.fit([0, 1, 2, 3, 4, 5, 6, 7, 8, 9])\n",
    "\n",
    "def one_hot_encode(x):\n",
    "    \"\"\"\n",
    "    One hot encode a list of sample labels. Return a one-hot encoded vector for each label.\n",
    "    : x: List of sample Labels\n",
    "    : return: Numpy array of one-hot encoded labels\n",
    "    \"\"\"\n",
    "    return lb.transform(x)\n",
    "\n",
    "\"\"\"\n",
    "DON'T MODIFY ANYTHING IN THIS CELL THAT IS BELOW THIS LINE\n",
    "\"\"\"\n",
    "tests.test_one_hot_encode(one_hot_encode)"
   ]
  },
  {
   "cell_type": "markdown",
   "metadata": {},
   "source": [
    "### Randomize Data\n",
    "As you saw from exploring the data above, the order of the samples are randomized.  It doesn't hurt to randomize it again, but you don't need to for this dataset."
   ]
  },
  {
   "cell_type": "markdown",
   "metadata": {},
   "source": [
    "## Preprocess all the data and save it\n",
    "Running the code cell below will preprocess all the CIFAR-10 data and save it to file. The code below also uses 10% of the training data for validation."
   ]
  },
  {
   "cell_type": "code",
   "execution_count": 35,
   "metadata": {
    "collapsed": true
   },
   "outputs": [],
   "source": [
    "\"\"\"\n",
    "DON'T MODIFY ANYTHING IN THIS CELL\n",
    "\"\"\"\n",
    "# Preprocess Training, Validation, and Testing Data\n",
    "helper.preprocess_and_save_data(cifar10_dataset_folder_path, normalize, one_hot_encode)"
   ]
  },
  {
   "cell_type": "markdown",
   "metadata": {},
   "source": [
    "# Check Point\n",
    "This is your first checkpoint.  If you ever decide to come back to this notebook or have to restart the notebook, you can start from here.  The preprocessed data has been saved to disk."
   ]
  },
  {
   "cell_type": "code",
   "execution_count": 36,
   "metadata": {
    "collapsed": true
   },
   "outputs": [],
   "source": [
    "\"\"\"\n",
    "DON'T MODIFY ANYTHING IN THIS CELL\n",
    "\"\"\"\n",
    "import pickle\n",
    "import problem_unittests as tests\n",
    "import helper\n",
    "\n",
    "# Load the Preprocessed Validation data\n",
    "valid_features, valid_labels = pickle.load(open('preprocess_validation.p', mode='rb'))"
   ]
  },
  {
   "cell_type": "markdown",
   "metadata": {},
   "source": [
    "## Build the network\n",
    "For the neural network, you'll build each layer into a function.  Most of the code you've seen has been outside of functions. To test your code more thoroughly, we require that you put each layer in a function.  This allows us to give you better feedback and test for simple mistakes using our unittests before you submit your project.\n",
    "\n",
    ">**Note:** If you're finding it hard to dedicate enough time for this course each week, we've provided a small shortcut to this part of the project. In the next couple of problems, you'll have the option to use classes from the [TensorFlow Layers](https://www.tensorflow.org/api_docs/python/tf/layers) or [TensorFlow Layers (contrib)](https://www.tensorflow.org/api_guides/python/contrib.layers) packages to build each layer, except the layers you build in the \"Convolutional and Max Pooling Layer\" section.  TF Layers is similar to Keras's and TFLearn's abstraction to layers, so it's easy to pickup.\n",
    "\n",
    ">However, if you would like to get the most out of this course, try to solve all the problems _without_ using anything from the TF Layers packages. You **can** still use classes from other packages that happen to have the same name as ones you find in TF Layers! For example, instead of using the TF Layers version of the `conv2d` class, [tf.layers.conv2d](https://www.tensorflow.org/api_docs/python/tf/layers/conv2d), you would want to use the TF Neural Network version of `conv2d`, [tf.nn.conv2d](https://www.tensorflow.org/api_docs/python/tf/nn/conv2d). \n",
    "\n",
    "Let's begin!\n",
    "\n",
    "### Input\n",
    "The neural network needs to read the image data, one-hot encoded labels, and dropout keep probability. Implement the following functions\n",
    "* Implement `neural_net_image_input`\n",
    " * Return a [TF Placeholder](https://www.tensorflow.org/api_docs/python/tf/placeholder)\n",
    " * Set the shape using `image_shape` with batch size set to `None`.\n",
    " * Name the TensorFlow placeholder \"x\" using the TensorFlow `name` parameter in the [TF Placeholder](https://www.tensorflow.org/api_docs/python/tf/placeholder).\n",
    "* Implement `neural_net_label_input`\n",
    " * Return a [TF Placeholder](https://www.tensorflow.org/api_docs/python/tf/placeholder)\n",
    " * Set the shape using `n_classes` with batch size set to `None`.\n",
    " * Name the TensorFlow placeholder \"y\" using the TensorFlow `name` parameter in the [TF Placeholder](https://www.tensorflow.org/api_docs/python/tf/placeholder).\n",
    "* Implement `neural_net_keep_prob_input`\n",
    " * Return a [TF Placeholder](https://www.tensorflow.org/api_docs/python/tf/placeholder) for dropout keep probability.\n",
    " * Name the TensorFlow placeholder \"keep_prob\" using the TensorFlow `name` parameter in the [TF Placeholder](https://www.tensorflow.org/api_docs/python/tf/placeholder).\n",
    "\n",
    "These names will be used at the end of the project to load your saved model.\n",
    "\n",
    "Note: `None` for shapes in TensorFlow allow for a dynamic size."
   ]
  },
  {
   "cell_type": "code",
   "execution_count": 37,
   "metadata": {},
   "outputs": [
    {
     "name": "stdout",
     "output_type": "stream",
     "text": [
      "Image Input Tests Passed.\n",
      "Label Input Tests Passed.\n",
      "Keep Prob Tests Passed.\n"
     ]
    }
   ],
   "source": [
    "import tensorflow as tf\n",
    "\n",
    "def neural_net_image_input(image_shape):\n",
    "    \"\"\"\n",
    "    Return a Tensor for a batch of image input\n",
    "    : image_shape: Shape of the images\n",
    "    : return: Tensor for image input.\n",
    "    \"\"\"\n",
    "    return tf.placeholder(tf.float32, [None, *image_shape], name='x')\n",
    "\n",
    "\n",
    "def neural_net_label_input(n_classes):\n",
    "    \"\"\"\n",
    "    Return a Tensor for a batch of label input\n",
    "    : n_classes: Number of classes\n",
    "    : return: Tensor for label input.\n",
    "    \"\"\"\n",
    "    return tf.placeholder(tf.float32, [None, n_classes], name='y')\n",
    "\n",
    "\n",
    "def neural_net_keep_prob_input():\n",
    "    \"\"\"\n",
    "    Return a Tensor for keep probability\n",
    "    : return: Tensor for keep probability.\n",
    "    \"\"\"\n",
    "    return tf.placeholder(tf.float32, name='keep_prob')\n",
    "\n",
    "\n",
    "\"\"\"\n",
    "DON'T MODIFY ANYTHING IN THIS CELL THAT IS BELOW THIS LINE\n",
    "\"\"\"\n",
    "tf.reset_default_graph()\n",
    "tests.test_nn_image_inputs(neural_net_image_input)\n",
    "tests.test_nn_label_inputs(neural_net_label_input)\n",
    "tests.test_nn_keep_prob_inputs(neural_net_keep_prob_input)"
   ]
  },
  {
   "cell_type": "markdown",
   "metadata": {},
   "source": [
    "### Convolution and Max Pooling Layer\n",
    "Convolution layers have a lot of success with images. For this code cell, you should implement the function `conv2d_maxpool` to apply convolution then max pooling:\n",
    "* Create the weight and bias using `conv_ksize`, `conv_num_outputs` and the shape of `x_tensor`.\n",
    "* Apply a convolution to `x_tensor` using weight and `conv_strides`.\n",
    " * We recommend you use same padding, but you're welcome to use any padding.\n",
    "* Add bias\n",
    "* Add a nonlinear activation to the convolution.\n",
    "* Apply Max Pooling using `pool_ksize` and `pool_strides`.\n",
    " * We recommend you use same padding, but you're welcome to use any padding.\n",
    "\n",
    "**Note:** You **can't** use [TensorFlow Layers](https://www.tensorflow.org/api_docs/python/tf/layers) or [TensorFlow Layers (contrib)](https://www.tensorflow.org/api_guides/python/contrib.layers) for **this** layer, but you can still use TensorFlow's [Neural Network](https://www.tensorflow.org/api_docs/python/tf/nn) package. You may still use the shortcut option for all the **other** layers."
   ]
  },
  {
   "cell_type": "code",
   "execution_count": 38,
   "metadata": {},
   "outputs": [
    {
     "name": "stdout",
     "output_type": "stream",
     "text": [
      "Tests Passed\n"
     ]
    }
   ],
   "source": [
    "def conv2d_maxpool(x_tensor, conv_num_outputs, conv_ksize, conv_strides, pool_ksize, pool_strides):\n",
    "    \"\"\"\n",
    "    Apply convolution then max pooling to x_tensor\n",
    "    :param x_tensor: TensorFlow Tensor\n",
    "    :param conv_num_outputs: Number of outputs for the convolutional layer\n",
    "    :param conv_ksize: kernal size 2-D Tuple for the convolutional layer\n",
    "    :param conv_strides: Stride 2-D Tuple for convolution\n",
    "    :param pool_ksize: kernal size 2-D Tuple for pool\n",
    "    :param pool_strides: Stride 2-D Tuple for pool\n",
    "    : return: A tensor that represents convolution and max pooling of x_tensor\n",
    "    \"\"\"\n",
    "    shape = x_tensor.get_shape().as_list()\n",
    "    weight = tf.Variable(tf.random_normal([conv_ksize[0], conv_ksize[1], shape[3], conv_num_outputs], mean=0.0, stddev=0.1))\n",
    "    bias = tf.Variable(tf.zeros([conv_num_outputs]))\n",
    "    \n",
    "    # @see https://www.tensorflow.org/api_docs/python/tf/nn/conv2d\n",
    "    conv2d = tf.nn.conv2d(x_tensor, weight, strides=[1, conv_strides[0], conv_strides[1], 1], padding='SAME')\n",
    "    \n",
    "    # @see https://www.tensorflow.org/api_docs/python/tf/nn/bias_add\n",
    "    bias = tf.nn.bias_add(conv2d, bias)\n",
    "    \n",
    "    # Rectifier Linear Unit\n",
    "    # @see https://www.tensorflow.org/api_docs/python/tf/nn/relu\n",
    "    x = tf.nn.relu(bias)\n",
    "\n",
    "    # @see https://www.tensorflow.org/api_docs/python/tf/nn/max_pool\n",
    "    ksize = [1, pool_ksize[0], pool_ksize[1], 1]\n",
    "    strides = [1, pool_strides[0], pool_strides[1], 1]\n",
    "\n",
    "    return tf.nn.max_pool(x, ksize, strides, padding='SAME')\n",
    "\n",
    "\"\"\"\n",
    "DON'T MODIFY ANYTHING IN THIS CELL THAT IS BELOW THIS LINE\n",
    "\"\"\"\n",
    "tests.test_con_pool(conv2d_maxpool)"
   ]
  },
  {
   "cell_type": "markdown",
   "metadata": {},
   "source": [
    "### Flatten Layer\n",
    "Implement the `flatten` function to change the dimension of `x_tensor` from a 4-D tensor to a 2-D tensor.  The output should be the shape (*Batch Size*, *Flattened Image Size*). Shortcut option: you can use classes from the [TensorFlow Layers](https://www.tensorflow.org/api_docs/python/tf/layers) or [TensorFlow Layers (contrib)](https://www.tensorflow.org/api_guides/python/contrib.layers) packages for this layer. For more of a challenge, only use other TensorFlow packages."
   ]
  },
  {
   "cell_type": "code",
   "execution_count": 39,
   "metadata": {},
   "outputs": [
    {
     "name": "stdout",
     "output_type": "stream",
     "text": [
      "Tests Passed\n"
     ]
    }
   ],
   "source": [
    "def flatten(x_tensor):\n",
    "    \"\"\"\n",
    "    Flatten x_tensor to (Batch Size, Flattened Image Size)\n",
    "    : x_tensor: A tensor of size (Batch Size, ...), where ... are the image dimensions.\n",
    "    : return: A tensor of size (Batch Size, Flattened Image Size).\n",
    "    \"\"\"\n",
    "    # @see https://www.tensorflow.org/api_docs/python/tf/TensorShape\n",
    "    shape = x_tensor.get_shape().as_list()\n",
    "    return tf.reshape(x_tensor, [-1, shape[1] * shape[2] * shape[3]])\n",
    "\n",
    "\"\"\"\n",
    "DON'T MODIFY ANYTHING IN THIS CELL THAT IS BELOW THIS LINE\n",
    "\"\"\"\n",
    "tests.test_flatten(flatten)"
   ]
  },
  {
   "cell_type": "markdown",
   "metadata": {},
   "source": [
    "### Fully-Connected Layer\n",
    "Implement the `fully_conn` function to apply a fully connected layer to `x_tensor` with the shape (*Batch Size*, *num_outputs*). Shortcut option: you can use classes from the [TensorFlow Layers](https://www.tensorflow.org/api_docs/python/tf/layers) or [TensorFlow Layers (contrib)](https://www.tensorflow.org/api_guides/python/contrib.layers) packages for this layer. For more of a challenge, only use other TensorFlow packages."
   ]
  },
  {
   "cell_type": "code",
   "execution_count": 40,
   "metadata": {},
   "outputs": [
    {
     "name": "stdout",
     "output_type": "stream",
     "text": [
      "Tests Passed\n"
     ]
    }
   ],
   "source": [
    "def fully_conn(x_tensor, num_outputs):\n",
    "    \"\"\"\n",
    "    Apply a fully connected layer to x_tensor using weight and bias\n",
    "    : x_tensor: A 2-D tensor where the first dimension is batch size.\n",
    "    : num_outputs: The number of output that the new tensor should be.\n",
    "    : return: A 2-D tensor where the second dimension is num_outputs.\n",
    "    \"\"\"\n",
    "    shape = x_tensor.get_shape().as_list()\n",
    "    \n",
    "    # @see https://www.tensorflow.org/versions/r1.3/api_docs/python/tf/random_normal\n",
    "    random_normal = tf.random_normal([shape[1], num_outputs], mean=0.0, stddev=0.1)\n",
    "    weigth = tf.Variable(random_normal)\n",
    "    bias = tf.Variable(tf.zeros([num_outputs]))\n",
    "    \n",
    "    fc = tf.add(tf.matmul(x_tensor, weigth), bias)\n",
    "    \n",
    "    return tf.nn.relu(fc)\n",
    "\n",
    "\"\"\"\n",
    "DON'T MODIFY ANYTHING IN THIS CELL THAT IS BELOW THIS LINE\n",
    "\"\"\"\n",
    "tests.test_fully_conn(fully_conn)"
   ]
  },
  {
   "cell_type": "markdown",
   "metadata": {},
   "source": [
    "### Output Layer\n",
    "Implement the `output` function to apply a fully connected layer to `x_tensor` with the shape (*Batch Size*, *num_outputs*). Shortcut option: you can use classes from the [TensorFlow Layers](https://www.tensorflow.org/api_docs/python/tf/layers) or [TensorFlow Layers (contrib)](https://www.tensorflow.org/api_guides/python/contrib.layers) packages for this layer. For more of a challenge, only use other TensorFlow packages.\n",
    "\n",
    "**Note:** Activation, softmax, or cross entropy should **not** be applied to this."
   ]
  },
  {
   "cell_type": "code",
   "execution_count": 41,
   "metadata": {},
   "outputs": [
    {
     "name": "stdout",
     "output_type": "stream",
     "text": [
      "Tests Passed\n"
     ]
    }
   ],
   "source": [
    "def output(x_tensor, num_outputs):\n",
    "    \"\"\"\n",
    "    Apply a output layer to x_tensor using weight and bias\n",
    "    : x_tensor: A 2-D tensor where the first dimension is batch size.\n",
    "    : num_outputs: The number of output that the new tensor should be.\n",
    "    : return: A 2-D tensor where the second dimension is num_outputs.\n",
    "    \"\"\"\n",
    "    shape = x_tensor.get_shape().as_list()    \n",
    "    \n",
    "    random_normal = tf.random_normal([shape[1], num_outputs], mean=0.0, stddev=0.1)\n",
    "    weight = tf.Variable(random_normal)\n",
    "    bias = tf.Variable(tf.zeros([num_outputs]))\n",
    "    \n",
    "    return tf.add(tf.matmul(x_tensor, weight), bias)\n",
    "\n",
    "\"\"\"\n",
    "DON'T MODIFY ANYTHING IN THIS CELL THAT IS BELOW THIS LINE\n",
    "\"\"\"\n",
    "tests.test_output(output)"
   ]
  },
  {
   "cell_type": "markdown",
   "metadata": {},
   "source": [
    "### Create Convolutional Model\n",
    "Implement the function `conv_net` to create a convolutional neural network model. The function takes in a batch of images, `x`, and outputs logits.  Use the layers you created above to create this model:\n",
    "\n",
    "* Apply 1, 2, or 3 Convolution and Max Pool layers\n",
    "* Apply a Flatten Layer\n",
    "* Apply 1, 2, or 3 Fully Connected Layers\n",
    "* Apply an Output Layer\n",
    "* Return the output\n",
    "* Apply [TensorFlow's Dropout](https://www.tensorflow.org/api_docs/python/tf/nn/dropout) to one or more layers in the model using `keep_prob`. "
   ]
  },
  {
   "cell_type": "code",
   "execution_count": 42,
   "metadata": {},
   "outputs": [
    {
     "name": "stdout",
     "output_type": "stream",
     "text": [
      "Neural Network Built!\n"
     ]
    }
   ],
   "source": [
    "def conv_net(x, keep_prob):\n",
    "    \"\"\"\n",
    "    Create a convolutional neural network model\n",
    "    : x: Placeholder tensor that holds image data.\n",
    "    : keep_prob: Placeholder tensor that hold dropout keep probability.\n",
    "    : return: Tensor that represents logits\n",
    "    \"\"\"\n",
    "    # Apply 1, 2, or 3 Convolution and Max Pool layers\n",
    "    #    Play around with different number of outputs, kernel size and stride\n",
    "    # Function Definition from Above:\n",
    "    #    conv2d_maxpool(x_tensor, conv_num_outputs, conv_ksize, conv_strides, pool_ksize, pool_strides)\n",
    "    conv = {\n",
    "        'outputs': 18,\n",
    "        'ksize': (4, 4),\n",
    "        'strides': (1, 1)\n",
    "    }\n",
    "    \n",
    "    pool = {\n",
    "        'ksize': (8, 8),\n",
    "        'strides': (1, 1)\n",
    "    }\n",
    "    \n",
    "    model = conv2d_maxpool(x, conv['outputs'], conv['ksize'], conv['strides'], pool['ksize'], pool['strides'])    \n",
    "\n",
    "    # Apply a Flatten Layer\n",
    "    # Function Definition from Above:\n",
    "    #   flatten(x_tensor)\n",
    "    model = flatten(model)\n",
    "\n",
    "    # Apply 1, 2, or 3 Fully Connected Layers\n",
    "    #    Play around with different number of outputs\n",
    "    # Function Definition from Above:\n",
    "    #   fully_conn(x_tensor, num_outputs)\n",
    "    model = fully_conn(model, 200)\n",
    "    model = tf.nn.dropout(model, keep_prob)\n",
    "    \n",
    "    # Apply an Output Layer\n",
    "    #    Set this to the number of classes\n",
    "    # Function Definition from Above:\n",
    "    #   output(x_tensor, num_outputs)\n",
    "    model = output(model,10)\n",
    "    \n",
    "    return model\n",
    "\n",
    "\"\"\"\n",
    "DON'T MODIFY ANYTHING IN THIS CELL THAT IS BELOW THIS LINE\n",
    "\"\"\"\n",
    "\n",
    "##############################\n",
    "## Build the Neural Network ##\n",
    "##############################\n",
    "\n",
    "# Remove previous weights, bias, inputs, etc..\n",
    "tf.reset_default_graph()\n",
    "\n",
    "# Inputs\n",
    "x = neural_net_image_input((32, 32, 3))\n",
    "y = neural_net_label_input(10)\n",
    "keep_prob = neural_net_keep_prob_input()\n",
    "\n",
    "# Model\n",
    "logits = conv_net(x, keep_prob)\n",
    "\n",
    "# Name logits Tensor, so that is can be loaded from disk after training\n",
    "logits = tf.identity(logits, name='logits')\n",
    "\n",
    "# Loss and Optimizer\n",
    "cost = tf.reduce_mean(tf.nn.softmax_cross_entropy_with_logits(logits=logits, labels=y))\n",
    "optimizer = tf.train.AdamOptimizer().minimize(cost)\n",
    "\n",
    "# Accuracy\n",
    "correct_pred = tf.equal(tf.argmax(logits, 1), tf.argmax(y, 1))\n",
    "accuracy = tf.reduce_mean(tf.cast(correct_pred, tf.float32), name='accuracy')\n",
    "\n",
    "tests.test_conv_net(conv_net)"
   ]
  },
  {
   "cell_type": "markdown",
   "metadata": {},
   "source": [
    "## Train the Neural Network\n",
    "### Single Optimization\n",
    "Implement the function `train_neural_network` to do a single optimization.  The optimization should use `optimizer` to optimize in `session` with a `feed_dict` of the following:\n",
    "* `x` for image input\n",
    "* `y` for labels\n",
    "* `keep_prob` for keep probability for dropout\n",
    "\n",
    "This function will be called for each batch, so `tf.global_variables_initializer()` has already been called.\n",
    "\n",
    "Note: Nothing needs to be returned. This function is only optimizing the neural network."
   ]
  },
  {
   "cell_type": "code",
   "execution_count": 43,
   "metadata": {},
   "outputs": [
    {
     "name": "stdout",
     "output_type": "stream",
     "text": [
      "Tests Passed\n"
     ]
    }
   ],
   "source": [
    "def train_neural_network(session, optimizer, keep_probability, feature_batch, label_batch):\n",
    "    \"\"\"\n",
    "    Optimize the session on a batch of images and labels\n",
    "    : session: Current TensorFlow session\n",
    "    : optimizer: TensorFlow optimizer function\n",
    "    : keep_probability: keep probability\n",
    "    : feature_batch: Batch of Numpy image data\n",
    "    : label_batch: Batch of Numpy label data\n",
    "    \"\"\"\n",
    "    session.run(optimizer, feed_dict={x:feature_batch, y:label_batch, keep_prob:keep_probability})\n",
    "\n",
    "\"\"\"\n",
    "DON'T MODIFY ANYTHING IN THIS CELL THAT IS BELOW THIS LINE\n",
    "\"\"\"\n",
    "tests.test_train_nn(train_neural_network)"
   ]
  },
  {
   "cell_type": "markdown",
   "metadata": {},
   "source": [
    "### Show Stats\n",
    "Implement the function `print_stats` to print loss and validation accuracy.  Use the global variables `valid_features` and `valid_labels` to calculate validation accuracy.  Use a keep probability of `1.0` to calculate the loss and validation accuracy."
   ]
  },
  {
   "cell_type": "code",
   "execution_count": 44,
   "metadata": {
    "collapsed": true
   },
   "outputs": [],
   "source": [
    "def print_stats(session, feature_batch, label_batch, cost, accuracy):\n",
    "    \"\"\"\n",
    "    Print information about loss and validation accuracy\n",
    "    : session: Current TensorFlow session\n",
    "    : feature_batch: Batch of Numpy image data\n",
    "    : label_batch: Batch of Numpy label data\n",
    "    : cost: TensorFlow cost function\n",
    "    : accuracy: TensorFlow accuracy function\n",
    "    \"\"\"\n",
    "    loss = session.run(cost, feed_dict = { x: feature_batch, y: label_batch, keep_prob: 1. })\n",
    "    \n",
    "    valid_accuracy = session.run(accuracy, feed_dict = { x: valid_features, y: valid_labels, keep_prob: 1. })\n",
    "    \n",
    "    print('Loss: {:6.4f} Accuracy: {:.6f}'.format(loss, valid_accuracy))"
   ]
  },
  {
   "cell_type": "markdown",
   "metadata": {},
   "source": [
    "### Hyperparameters\n",
    "Tune the following parameters:\n",
    "* Set `epochs` to the number of iterations until the network stops learning or start overfitting\n",
    "* Set `batch_size` to the highest number that your machine has memory for.  Most people set them to common sizes of memory:\n",
    " * 64\n",
    " * 128\n",
    " * 256\n",
    " * ...\n",
    "* Set `keep_probability` to the probability of keeping a node using dropout"
   ]
  },
  {
   "cell_type": "code",
   "execution_count": 47,
   "metadata": {
    "collapsed": true
   },
   "outputs": [],
   "source": [
    "# Tune Parameters\n",
    "epochs = 50\n",
    "batch_size = 1024\n",
    "keep_probability = 0.4"
   ]
  },
  {
   "cell_type": "markdown",
   "metadata": {},
   "source": [
    "### Train on a Single CIFAR-10 Batch\n",
    "Instead of training the neural network on all the CIFAR-10 batches of data, let's use a single batch. This should save time while you iterate on the model to get a better accuracy.  Once the final validation accuracy is 50% or greater, run the model on all the data in the next section."
   ]
  },
  {
   "cell_type": "code",
   "execution_count": 48,
   "metadata": {},
   "outputs": [
    {
     "name": "stdout",
     "output_type": "stream",
     "text": [
      "Checking the Training on a Single Batch...\n",
      "Epoch  1, CIFAR-10 Batch 1:  Loss: 2.2834 Accuracy: 0.135400\n",
      "Epoch  2, CIFAR-10 Batch 1:  Loss: 2.2440 Accuracy: 0.175600\n",
      "Epoch  3, CIFAR-10 Batch 1:  Loss: 2.1932 Accuracy: 0.210800\n",
      "Epoch  4, CIFAR-10 Batch 1:  Loss: 2.1590 Accuracy: 0.251600\n",
      "Epoch  5, CIFAR-10 Batch 1:  Loss: 2.1047 Accuracy: 0.289600\n",
      "Epoch  6, CIFAR-10 Batch 1:  Loss: 2.0809 Accuracy: 0.273000\n",
      "Epoch  7, CIFAR-10 Batch 1:  Loss: 2.0275 Accuracy: 0.314600\n",
      "Epoch  8, CIFAR-10 Batch 1:  Loss: 1.9746 Accuracy: 0.338800\n",
      "Epoch  9, CIFAR-10 Batch 1:  Loss: 1.9271 Accuracy: 0.357800\n",
      "Epoch 10, CIFAR-10 Batch 1:  Loss: 1.8952 Accuracy: 0.371800\n",
      "Epoch 11, CIFAR-10 Batch 1:  Loss: 1.8434 Accuracy: 0.378800\n",
      "Epoch 12, CIFAR-10 Batch 1:  Loss: 1.8199 Accuracy: 0.399200\n",
      "Epoch 13, CIFAR-10 Batch 1:  Loss: 1.7878 Accuracy: 0.402200\n",
      "Epoch 14, CIFAR-10 Batch 1:  Loss: 1.7888 Accuracy: 0.429000\n",
      "Epoch 15, CIFAR-10 Batch 1:  Loss: 1.7580 Accuracy: 0.428400\n",
      "Epoch 16, CIFAR-10 Batch 1:  Loss: 1.7290 Accuracy: 0.414400\n",
      "Epoch 17, CIFAR-10 Batch 1:  Loss: 1.6995 Accuracy: 0.428000\n",
      "Epoch 18, CIFAR-10 Batch 1:  Loss: 1.6699 Accuracy: 0.437400\n",
      "Epoch 19, CIFAR-10 Batch 1:  Loss: 1.6560 Accuracy: 0.444600\n",
      "Epoch 20, CIFAR-10 Batch 1:  Loss: 1.6600 Accuracy: 0.449000\n",
      "Epoch 21, CIFAR-10 Batch 1:  Loss: 1.6405 Accuracy: 0.457000\n",
      "Epoch 22, CIFAR-10 Batch 1:  Loss: 1.6251 Accuracy: 0.453400\n",
      "Epoch 23, CIFAR-10 Batch 1:  Loss: 1.6138 Accuracy: 0.462200\n",
      "Epoch 24, CIFAR-10 Batch 1:  Loss: 1.6048 Accuracy: 0.459800\n",
      "Epoch 25, CIFAR-10 Batch 1:  Loss: 1.5739 Accuracy: 0.461600\n",
      "Epoch 26, CIFAR-10 Batch 1:  Loss: 1.5751 Accuracy: 0.463400\n",
      "Epoch 27, CIFAR-10 Batch 1:  Loss: 1.5796 Accuracy: 0.471800\n",
      "Epoch 28, CIFAR-10 Batch 1:  Loss: 1.5717 Accuracy: 0.470800\n",
      "Epoch 29, CIFAR-10 Batch 1:  Loss: 1.5547 Accuracy: 0.475800\n",
      "Epoch 30, CIFAR-10 Batch 1:  Loss: 1.5536 Accuracy: 0.476800\n",
      "Epoch 31, CIFAR-10 Batch 1:  Loss: 1.5148 Accuracy: 0.478200\n",
      "Epoch 32, CIFAR-10 Batch 1:  Loss: 1.5246 Accuracy: 0.487000\n",
      "Epoch 33, CIFAR-10 Batch 1:  Loss: 1.5168 Accuracy: 0.487200\n",
      "Epoch 34, CIFAR-10 Batch 1:  Loss: 1.5008 Accuracy: 0.484000\n",
      "Epoch 35, CIFAR-10 Batch 1:  Loss: 1.4931 Accuracy: 0.486200\n",
      "Epoch 36, CIFAR-10 Batch 1:  Loss: 1.4931 Accuracy: 0.486600\n",
      "Epoch 37, CIFAR-10 Batch 1:  Loss: 1.4874 Accuracy: 0.480600\n",
      "Epoch 38, CIFAR-10 Batch 1:  Loss: 1.4749 Accuracy: 0.492200\n",
      "Epoch 39, CIFAR-10 Batch 1:  Loss: 1.4727 Accuracy: 0.496800\n",
      "Epoch 40, CIFAR-10 Batch 1:  Loss: 1.4700 Accuracy: 0.498600\n",
      "Epoch 41, CIFAR-10 Batch 1:  Loss: 1.4694 Accuracy: 0.495000\n",
      "Epoch 42, CIFAR-10 Batch 1:  Loss: 1.4489 Accuracy: 0.493600\n",
      "Epoch 43, CIFAR-10 Batch 1:  Loss: 1.4513 Accuracy: 0.509800\n",
      "Epoch 44, CIFAR-10 Batch 1:  Loss: 1.4401 Accuracy: 0.499000\n",
      "Epoch 45, CIFAR-10 Batch 1:  Loss: 1.4364 Accuracy: 0.509600\n",
      "Epoch 46, CIFAR-10 Batch 1:  Loss: 1.4387 Accuracy: 0.499400\n",
      "Epoch 47, CIFAR-10 Batch 1:  Loss: 1.4356 Accuracy: 0.505400\n",
      "Epoch 48, CIFAR-10 Batch 1:  Loss: 1.4118 Accuracy: 0.509200\n",
      "Epoch 49, CIFAR-10 Batch 1:  Loss: 1.4045 Accuracy: 0.513800\n",
      "Epoch 50, CIFAR-10 Batch 1:  Loss: 1.4008 Accuracy: 0.515400\n"
     ]
    }
   ],
   "source": [
    "\"\"\"\n",
    "DON'T MODIFY ANYTHING IN THIS CELL\n",
    "\"\"\"\n",
    "print('Checking the Training on a Single Batch...')\n",
    "with tf.Session() as sess:\n",
    "    # Initializing the variables\n",
    "    sess.run(tf.global_variables_initializer())\n",
    "    \n",
    "    # Training cycle\n",
    "    for epoch in range(epochs):\n",
    "        batch_i = 1\n",
    "        for batch_features, batch_labels in helper.load_preprocess_training_batch(batch_i, batch_size):\n",
    "            train_neural_network(sess, optimizer, keep_probability, batch_features, batch_labels)\n",
    "        print('Epoch {:>2}, CIFAR-10 Batch {}:  '.format(epoch + 1, batch_i), end='')\n",
    "        print_stats(sess, batch_features, batch_labels, cost, accuracy)"
   ]
  },
  {
   "cell_type": "markdown",
   "metadata": {},
   "source": [
    "### Fully Train the Model\n",
    "Now that you got a good accuracy with a single CIFAR-10 batch, try it with all five batches."
   ]
  },
  {
   "cell_type": "code",
   "execution_count": 49,
   "metadata": {},
   "outputs": [
    {
     "name": "stdout",
     "output_type": "stream",
     "text": [
      "Training...\n",
      "Epoch  1, CIFAR-10 Batch 1:  Loss: 2.2626 Accuracy: 0.152200\n",
      "Epoch  1, CIFAR-10 Batch 2:  Loss: 2.2617 Accuracy: 0.179400\n",
      "Epoch  1, CIFAR-10 Batch 3:  Loss: 2.2472 Accuracy: 0.186600\n",
      "Epoch  1, CIFAR-10 Batch 4:  Loss: 2.1818 Accuracy: 0.174200\n",
      "Epoch  1, CIFAR-10 Batch 5:  Loss: 2.1531 Accuracy: 0.189800\n",
      "Epoch  2, CIFAR-10 Batch 1:  Loss: 2.1559 Accuracy: 0.193800\n",
      "Epoch  2, CIFAR-10 Batch 2:  Loss: 2.1248 Accuracy: 0.204400\n",
      "Epoch  2, CIFAR-10 Batch 3:  Loss: 2.1240 Accuracy: 0.208000\n",
      "Epoch  2, CIFAR-10 Batch 4:  Loss: 2.0403 Accuracy: 0.219200\n",
      "Epoch  2, CIFAR-10 Batch 5:  Loss: 2.0036 Accuracy: 0.215400\n",
      "Epoch  3, CIFAR-10 Batch 1:  Loss: 1.9835 Accuracy: 0.231800\n",
      "Epoch  3, CIFAR-10 Batch 2:  Loss: 1.9352 Accuracy: 0.252000\n",
      "Epoch  3, CIFAR-10 Batch 3:  Loss: 1.9073 Accuracy: 0.289800\n",
      "Epoch  3, CIFAR-10 Batch 4:  Loss: 1.8668 Accuracy: 0.301800\n",
      "Epoch  3, CIFAR-10 Batch 5:  Loss: 1.8653 Accuracy: 0.333200\n",
      "Epoch  4, CIFAR-10 Batch 1:  Loss: 1.8375 Accuracy: 0.340200\n",
      "Epoch  4, CIFAR-10 Batch 2:  Loss: 1.8180 Accuracy: 0.334400\n",
      "Epoch  4, CIFAR-10 Batch 3:  Loss: 1.7947 Accuracy: 0.367600\n",
      "Epoch  4, CIFAR-10 Batch 4:  Loss: 1.7575 Accuracy: 0.354600\n",
      "Epoch  4, CIFAR-10 Batch 5:  Loss: 1.7484 Accuracy: 0.373800\n",
      "Epoch  5, CIFAR-10 Batch 1:  Loss: 1.7722 Accuracy: 0.353600\n",
      "Epoch  5, CIFAR-10 Batch 2:  Loss: 1.7584 Accuracy: 0.381600\n",
      "Epoch  5, CIFAR-10 Batch 3:  Loss: 1.6860 Accuracy: 0.365200\n",
      "Epoch  5, CIFAR-10 Batch 4:  Loss: 1.6615 Accuracy: 0.380600\n",
      "Epoch  5, CIFAR-10 Batch 5:  Loss: 1.6776 Accuracy: 0.379000\n",
      "Epoch  6, CIFAR-10 Batch 1:  Loss: 1.6831 Accuracy: 0.395000\n",
      "Epoch  6, CIFAR-10 Batch 2:  Loss: 1.6897 Accuracy: 0.372000\n",
      "Epoch  6, CIFAR-10 Batch 3:  Loss: 1.6126 Accuracy: 0.403000\n",
      "Epoch  6, CIFAR-10 Batch 4:  Loss: 1.5883 Accuracy: 0.402400\n",
      "Epoch  6, CIFAR-10 Batch 5:  Loss: 1.6084 Accuracy: 0.409400\n",
      "Epoch  7, CIFAR-10 Batch 1:  Loss: 1.6399 Accuracy: 0.421800\n",
      "Epoch  7, CIFAR-10 Batch 2:  Loss: 1.6174 Accuracy: 0.428400\n",
      "Epoch  7, CIFAR-10 Batch 3:  Loss: 1.5523 Accuracy: 0.423200\n",
      "Epoch  7, CIFAR-10 Batch 4:  Loss: 1.5529 Accuracy: 0.425000\n",
      "Epoch  7, CIFAR-10 Batch 5:  Loss: 1.5836 Accuracy: 0.441800\n",
      "Epoch  8, CIFAR-10 Batch 1:  Loss: 1.5770 Accuracy: 0.425800\n",
      "Epoch  8, CIFAR-10 Batch 2:  Loss: 1.5653 Accuracy: 0.439000\n",
      "Epoch  8, CIFAR-10 Batch 3:  Loss: 1.5572 Accuracy: 0.426600\n",
      "Epoch  8, CIFAR-10 Batch 4:  Loss: 1.5208 Accuracy: 0.439600\n",
      "Epoch  8, CIFAR-10 Batch 5:  Loss: 1.5625 Accuracy: 0.436800\n",
      "Epoch  9, CIFAR-10 Batch 1:  Loss: 1.5823 Accuracy: 0.446200\n",
      "Epoch  9, CIFAR-10 Batch 2:  Loss: 1.5423 Accuracy: 0.446800\n",
      "Epoch  9, CIFAR-10 Batch 3:  Loss: 1.5044 Accuracy: 0.434000\n",
      "Epoch  9, CIFAR-10 Batch 4:  Loss: 1.5083 Accuracy: 0.441200\n",
      "Epoch  9, CIFAR-10 Batch 5:  Loss: 1.5280 Accuracy: 0.454400\n",
      "Epoch 10, CIFAR-10 Batch 1:  Loss: 1.5507 Accuracy: 0.446800\n",
      "Epoch 10, CIFAR-10 Batch 2:  Loss: 1.5270 Accuracy: 0.460400\n",
      "Epoch 10, CIFAR-10 Batch 3:  Loss: 1.4916 Accuracy: 0.452800\n",
      "Epoch 10, CIFAR-10 Batch 4:  Loss: 1.4818 Accuracy: 0.449400\n",
      "Epoch 10, CIFAR-10 Batch 5:  Loss: 1.5124 Accuracy: 0.452000\n",
      "Epoch 11, CIFAR-10 Batch 1:  Loss: 1.5589 Accuracy: 0.461000\n",
      "Epoch 11, CIFAR-10 Batch 2:  Loss: 1.5338 Accuracy: 0.458200\n",
      "Epoch 11, CIFAR-10 Batch 3:  Loss: 1.4667 Accuracy: 0.455800\n",
      "Epoch 11, CIFAR-10 Batch 4:  Loss: 1.4525 Accuracy: 0.463200\n",
      "Epoch 11, CIFAR-10 Batch 5:  Loss: 1.4627 Accuracy: 0.467400\n",
      "Epoch 12, CIFAR-10 Batch 1:  Loss: 1.5111 Accuracy: 0.458400\n",
      "Epoch 12, CIFAR-10 Batch 2:  Loss: 1.4858 Accuracy: 0.472200\n",
      "Epoch 12, CIFAR-10 Batch 3:  Loss: 1.4361 Accuracy: 0.467800\n",
      "Epoch 12, CIFAR-10 Batch 4:  Loss: 1.4366 Accuracy: 0.469000\n",
      "Epoch 12, CIFAR-10 Batch 5:  Loss: 1.4838 Accuracy: 0.454600\n",
      "Epoch 13, CIFAR-10 Batch 1:  Loss: 1.4934 Accuracy: 0.476600\n",
      "Epoch 13, CIFAR-10 Batch 2:  Loss: 1.4598 Accuracy: 0.479800\n",
      "Epoch 13, CIFAR-10 Batch 3:  Loss: 1.4513 Accuracy: 0.474400\n",
      "Epoch 13, CIFAR-10 Batch 4:  Loss: 1.4196 Accuracy: 0.462200\n",
      "Epoch 13, CIFAR-10 Batch 5:  Loss: 1.4307 Accuracy: 0.485400\n",
      "Epoch 14, CIFAR-10 Batch 1:  Loss: 1.4537 Accuracy: 0.479600\n",
      "Epoch 14, CIFAR-10 Batch 2:  Loss: 1.4446 Accuracy: 0.485800\n",
      "Epoch 14, CIFAR-10 Batch 3:  Loss: 1.4498 Accuracy: 0.473400\n",
      "Epoch 14, CIFAR-10 Batch 4:  Loss: 1.4247 Accuracy: 0.490000\n",
      "Epoch 14, CIFAR-10 Batch 5:  Loss: 1.4191 Accuracy: 0.476400\n",
      "Epoch 15, CIFAR-10 Batch 1:  Loss: 1.4351 Accuracy: 0.494200\n",
      "Epoch 15, CIFAR-10 Batch 2:  Loss: 1.4253 Accuracy: 0.494600\n",
      "Epoch 15, CIFAR-10 Batch 3:  Loss: 1.4501 Accuracy: 0.483400\n",
      "Epoch 15, CIFAR-10 Batch 4:  Loss: 1.4002 Accuracy: 0.486400\n",
      "Epoch 15, CIFAR-10 Batch 5:  Loss: 1.4043 Accuracy: 0.490200\n",
      "Epoch 16, CIFAR-10 Batch 1:  Loss: 1.4252 Accuracy: 0.493600\n",
      "Epoch 16, CIFAR-10 Batch 2:  Loss: 1.4057 Accuracy: 0.496800\n",
      "Epoch 16, CIFAR-10 Batch 3:  Loss: 1.3973 Accuracy: 0.494200\n",
      "Epoch 16, CIFAR-10 Batch 4:  Loss: 1.3936 Accuracy: 0.485400\n",
      "Epoch 16, CIFAR-10 Batch 5:  Loss: 1.3974 Accuracy: 0.488200\n",
      "Epoch 17, CIFAR-10 Batch 1:  Loss: 1.4236 Accuracy: 0.494000\n",
      "Epoch 17, CIFAR-10 Batch 2:  Loss: 1.4205 Accuracy: 0.496200\n",
      "Epoch 17, CIFAR-10 Batch 3:  Loss: 1.3922 Accuracy: 0.497000\n",
      "Epoch 17, CIFAR-10 Batch 4:  Loss: 1.3789 Accuracy: 0.488400\n",
      "Epoch 17, CIFAR-10 Batch 5:  Loss: 1.3797 Accuracy: 0.501800\n",
      "Epoch 18, CIFAR-10 Batch 1:  Loss: 1.4175 Accuracy: 0.495600\n",
      "Epoch 18, CIFAR-10 Batch 2:  Loss: 1.4039 Accuracy: 0.505200\n",
      "Epoch 18, CIFAR-10 Batch 3:  Loss: 1.3592 Accuracy: 0.503800\n",
      "Epoch 18, CIFAR-10 Batch 4:  Loss: 1.3593 Accuracy: 0.501400\n",
      "Epoch 18, CIFAR-10 Batch 5:  Loss: 1.3764 Accuracy: 0.500200\n",
      "Epoch 19, CIFAR-10 Batch 1:  Loss: 1.3954 Accuracy: 0.500800\n",
      "Epoch 19, CIFAR-10 Batch 2:  Loss: 1.3686 Accuracy: 0.508800\n",
      "Epoch 19, CIFAR-10 Batch 3:  Loss: 1.3692 Accuracy: 0.501800\n",
      "Epoch 19, CIFAR-10 Batch 4:  Loss: 1.3580 Accuracy: 0.499600\n",
      "Epoch 19, CIFAR-10 Batch 5:  Loss: 1.3521 Accuracy: 0.500200\n",
      "Epoch 20, CIFAR-10 Batch 1:  Loss: 1.3828 Accuracy: 0.505400\n",
      "Epoch 20, CIFAR-10 Batch 2:  Loss: 1.3735 Accuracy: 0.497400\n",
      "Epoch 20, CIFAR-10 Batch 3:  Loss: 1.3673 Accuracy: 0.497000\n",
      "Epoch 20, CIFAR-10 Batch 4:  Loss: 1.3434 Accuracy: 0.502200\n",
      "Epoch 20, CIFAR-10 Batch 5:  Loss: 1.3541 Accuracy: 0.504600\n",
      "Epoch 21, CIFAR-10 Batch 1:  Loss: 1.4002 Accuracy: 0.498400\n",
      "Epoch 21, CIFAR-10 Batch 2:  Loss: 1.3540 Accuracy: 0.507200\n",
      "Epoch 21, CIFAR-10 Batch 3:  Loss: 1.3639 Accuracy: 0.498400\n",
      "Epoch 21, CIFAR-10 Batch 4:  Loss: 1.3495 Accuracy: 0.500200\n",
      "Epoch 21, CIFAR-10 Batch 5:  Loss: 1.3514 Accuracy: 0.499200\n",
      "Epoch 22, CIFAR-10 Batch 1:  Loss: 1.3522 Accuracy: 0.503800\n",
      "Epoch 22, CIFAR-10 Batch 2:  Loss: 1.3581 Accuracy: 0.509400\n",
      "Epoch 22, CIFAR-10 Batch 3:  Loss: 1.3464 Accuracy: 0.506400\n",
      "Epoch 22, CIFAR-10 Batch 4:  Loss: 1.3103 Accuracy: 0.509200\n",
      "Epoch 22, CIFAR-10 Batch 5:  Loss: 1.3337 Accuracy: 0.502600\n",
      "Epoch 23, CIFAR-10 Batch 1:  Loss: 1.3597 Accuracy: 0.507400\n",
      "Epoch 23, CIFAR-10 Batch 2:  Loss: 1.3296 Accuracy: 0.514000\n",
      "Epoch 23, CIFAR-10 Batch 3:  Loss: 1.3370 Accuracy: 0.503800\n",
      "Epoch 23, CIFAR-10 Batch 4:  Loss: 1.3283 Accuracy: 0.509400\n",
      "Epoch 23, CIFAR-10 Batch 5:  Loss: 1.3221 Accuracy: 0.507400\n",
      "Epoch 24, CIFAR-10 Batch 1:  Loss: 1.3479 Accuracy: 0.511400\n",
      "Epoch 24, CIFAR-10 Batch 2:  Loss: 1.3346 Accuracy: 0.508800\n",
      "Epoch 24, CIFAR-10 Batch 3:  Loss: 1.3723 Accuracy: 0.500800\n",
      "Epoch 24, CIFAR-10 Batch 4:  Loss: 1.3192 Accuracy: 0.509400\n",
      "Epoch 24, CIFAR-10 Batch 5:  Loss: 1.3157 Accuracy: 0.514600\n",
      "Epoch 25, CIFAR-10 Batch 1:  Loss: 1.3831 Accuracy: 0.499000\n",
      "Epoch 25, CIFAR-10 Batch 2:  Loss: 1.3736 Accuracy: 0.502800\n",
      "Epoch 25, CIFAR-10 Batch 3:  Loss: 1.3085 Accuracy: 0.507800\n",
      "Epoch 25, CIFAR-10 Batch 4:  Loss: 1.3039 Accuracy: 0.510800\n",
      "Epoch 25, CIFAR-10 Batch 5:  Loss: 1.3130 Accuracy: 0.510800\n",
      "Epoch 26, CIFAR-10 Batch 1:  Loss: 1.3403 Accuracy: 0.516600\n",
      "Epoch 26, CIFAR-10 Batch 2:  Loss: 1.3210 Accuracy: 0.507000\n",
      "Epoch 26, CIFAR-10 Batch 3:  Loss: 1.3296 Accuracy: 0.506000\n",
      "Epoch 26, CIFAR-10 Batch 4:  Loss: 1.2985 Accuracy: 0.522200\n",
      "Epoch 26, CIFAR-10 Batch 5:  Loss: 1.2917 Accuracy: 0.519000\n",
      "Epoch 27, CIFAR-10 Batch 1:  Loss: 1.3252 Accuracy: 0.522200\n",
      "Epoch 27, CIFAR-10 Batch 2:  Loss: 1.3143 Accuracy: 0.513400\n",
      "Epoch 27, CIFAR-10 Batch 3:  Loss: 1.3179 Accuracy: 0.502800\n",
      "Epoch 27, CIFAR-10 Batch 4:  Loss: 1.2786 Accuracy: 0.515000\n"
     ]
    },
    {
     "name": "stdout",
     "output_type": "stream",
     "text": [
      "Epoch 27, CIFAR-10 Batch 5:  Loss: 1.2830 Accuracy: 0.512800\n",
      "Epoch 28, CIFAR-10 Batch 1:  Loss: 1.3249 Accuracy: 0.516400\n",
      "Epoch 28, CIFAR-10 Batch 2:  Loss: 1.2873 Accuracy: 0.523400\n",
      "Epoch 28, CIFAR-10 Batch 3:  Loss: 1.2723 Accuracy: 0.511800\n",
      "Epoch 28, CIFAR-10 Batch 4:  Loss: 1.2955 Accuracy: 0.514000\n",
      "Epoch 28, CIFAR-10 Batch 5:  Loss: 1.2911 Accuracy: 0.506400\n",
      "Epoch 29, CIFAR-10 Batch 1:  Loss: 1.3075 Accuracy: 0.520600\n",
      "Epoch 29, CIFAR-10 Batch 2:  Loss: 1.2887 Accuracy: 0.519800\n",
      "Epoch 29, CIFAR-10 Batch 3:  Loss: 1.2629 Accuracy: 0.519200\n",
      "Epoch 29, CIFAR-10 Batch 4:  Loss: 1.2785 Accuracy: 0.527800\n",
      "Epoch 29, CIFAR-10 Batch 5:  Loss: 1.3023 Accuracy: 0.522200\n",
      "Epoch 30, CIFAR-10 Batch 1:  Loss: 1.3078 Accuracy: 0.520800\n",
      "Epoch 30, CIFAR-10 Batch 2:  Loss: 1.2707 Accuracy: 0.524000\n",
      "Epoch 30, CIFAR-10 Batch 3:  Loss: 1.2895 Accuracy: 0.510600\n",
      "Epoch 30, CIFAR-10 Batch 4:  Loss: 1.2763 Accuracy: 0.518200\n",
      "Epoch 30, CIFAR-10 Batch 5:  Loss: 1.2506 Accuracy: 0.520200\n",
      "Epoch 31, CIFAR-10 Batch 1:  Loss: 1.3079 Accuracy: 0.518600\n",
      "Epoch 31, CIFAR-10 Batch 2:  Loss: 1.2705 Accuracy: 0.535600\n",
      "Epoch 31, CIFAR-10 Batch 3:  Loss: 1.2671 Accuracy: 0.516000\n",
      "Epoch 31, CIFAR-10 Batch 4:  Loss: 1.2609 Accuracy: 0.524400\n",
      "Epoch 31, CIFAR-10 Batch 5:  Loss: 1.2511 Accuracy: 0.527400\n",
      "Epoch 32, CIFAR-10 Batch 1:  Loss: 1.2800 Accuracy: 0.524000\n",
      "Epoch 32, CIFAR-10 Batch 2:  Loss: 1.2699 Accuracy: 0.528200\n",
      "Epoch 32, CIFAR-10 Batch 3:  Loss: 1.2838 Accuracy: 0.521800\n",
      "Epoch 32, CIFAR-10 Batch 4:  Loss: 1.2527 Accuracy: 0.533800\n",
      "Epoch 32, CIFAR-10 Batch 5:  Loss: 1.2302 Accuracy: 0.525800\n",
      "Epoch 33, CIFAR-10 Batch 1:  Loss: 1.2776 Accuracy: 0.522400\n",
      "Epoch 33, CIFAR-10 Batch 2:  Loss: 1.2544 Accuracy: 0.529600\n",
      "Epoch 33, CIFAR-10 Batch 3:  Loss: 1.2670 Accuracy: 0.517200\n",
      "Epoch 33, CIFAR-10 Batch 4:  Loss: 1.2533 Accuracy: 0.533200\n",
      "Epoch 33, CIFAR-10 Batch 5:  Loss: 1.2274 Accuracy: 0.526000\n",
      "Epoch 34, CIFAR-10 Batch 1:  Loss: 1.2954 Accuracy: 0.518000\n",
      "Epoch 34, CIFAR-10 Batch 2:  Loss: 1.2495 Accuracy: 0.526400\n",
      "Epoch 34, CIFAR-10 Batch 3:  Loss: 1.2650 Accuracy: 0.514000\n",
      "Epoch 34, CIFAR-10 Batch 4:  Loss: 1.2350 Accuracy: 0.529800\n",
      "Epoch 34, CIFAR-10 Batch 5:  Loss: 1.2354 Accuracy: 0.532800\n",
      "Epoch 35, CIFAR-10 Batch 1:  Loss: 1.2821 Accuracy: 0.527600\n",
      "Epoch 35, CIFAR-10 Batch 2:  Loss: 1.2226 Accuracy: 0.536800\n",
      "Epoch 35, CIFAR-10 Batch 3:  Loss: 1.2218 Accuracy: 0.526800\n",
      "Epoch 35, CIFAR-10 Batch 4:  Loss: 1.2213 Accuracy: 0.541000\n",
      "Epoch 35, CIFAR-10 Batch 5:  Loss: 1.2277 Accuracy: 0.529800\n",
      "Epoch 36, CIFAR-10 Batch 1:  Loss: 1.2673 Accuracy: 0.531800\n",
      "Epoch 36, CIFAR-10 Batch 2:  Loss: 1.2369 Accuracy: 0.535400\n",
      "Epoch 36, CIFAR-10 Batch 3:  Loss: 1.2766 Accuracy: 0.527600\n",
      "Epoch 36, CIFAR-10 Batch 4:  Loss: 1.2453 Accuracy: 0.536800\n",
      "Epoch 36, CIFAR-10 Batch 5:  Loss: 1.2190 Accuracy: 0.534800\n",
      "Epoch 37, CIFAR-10 Batch 1:  Loss: 1.2429 Accuracy: 0.541000\n",
      "Epoch 37, CIFAR-10 Batch 2:  Loss: 1.2167 Accuracy: 0.536800\n",
      "Epoch 37, CIFAR-10 Batch 3:  Loss: 1.2303 Accuracy: 0.538400\n",
      "Epoch 37, CIFAR-10 Batch 4:  Loss: 1.2020 Accuracy: 0.545600\n",
      "Epoch 37, CIFAR-10 Batch 5:  Loss: 1.2200 Accuracy: 0.528800\n",
      "Epoch 38, CIFAR-10 Batch 1:  Loss: 1.2477 Accuracy: 0.540400\n",
      "Epoch 38, CIFAR-10 Batch 2:  Loss: 1.2100 Accuracy: 0.544000\n",
      "Epoch 38, CIFAR-10 Batch 3:  Loss: 1.2249 Accuracy: 0.543200\n",
      "Epoch 38, CIFAR-10 Batch 4:  Loss: 1.1945 Accuracy: 0.549800\n",
      "Epoch 38, CIFAR-10 Batch 5:  Loss: 1.1999 Accuracy: 0.549000\n",
      "Epoch 39, CIFAR-10 Batch 1:  Loss: 1.2370 Accuracy: 0.541000\n",
      "Epoch 39, CIFAR-10 Batch 2:  Loss: 1.1973 Accuracy: 0.551400\n",
      "Epoch 39, CIFAR-10 Batch 3:  Loss: 1.2237 Accuracy: 0.534000\n",
      "Epoch 39, CIFAR-10 Batch 4:  Loss: 1.2283 Accuracy: 0.549600\n",
      "Epoch 39, CIFAR-10 Batch 5:  Loss: 1.1846 Accuracy: 0.549000\n",
      "Epoch 40, CIFAR-10 Batch 1:  Loss: 1.2478 Accuracy: 0.542000\n",
      "Epoch 40, CIFAR-10 Batch 2:  Loss: 1.1948 Accuracy: 0.543800\n",
      "Epoch 40, CIFAR-10 Batch 3:  Loss: 1.1914 Accuracy: 0.536000\n",
      "Epoch 40, CIFAR-10 Batch 4:  Loss: 1.2110 Accuracy: 0.551600\n",
      "Epoch 40, CIFAR-10 Batch 5:  Loss: 1.2282 Accuracy: 0.527600\n",
      "Epoch 41, CIFAR-10 Batch 1:  Loss: 1.2321 Accuracy: 0.551200\n",
      "Epoch 41, CIFAR-10 Batch 2:  Loss: 1.1992 Accuracy: 0.551000\n",
      "Epoch 41, CIFAR-10 Batch 3:  Loss: 1.2110 Accuracy: 0.547000\n",
      "Epoch 41, CIFAR-10 Batch 4:  Loss: 1.1792 Accuracy: 0.561200\n",
      "Epoch 41, CIFAR-10 Batch 5:  Loss: 1.2054 Accuracy: 0.549200\n",
      "Epoch 42, CIFAR-10 Batch 1:  Loss: 1.2249 Accuracy: 0.556800\n",
      "Epoch 42, CIFAR-10 Batch 2:  Loss: 1.1726 Accuracy: 0.552400\n",
      "Epoch 42, CIFAR-10 Batch 3:  Loss: 1.2058 Accuracy: 0.563400\n",
      "Epoch 42, CIFAR-10 Batch 4:  Loss: 1.1910 Accuracy: 0.558200\n",
      "Epoch 42, CIFAR-10 Batch 5:  Loss: 1.1780 Accuracy: 0.564000\n",
      "Epoch 43, CIFAR-10 Batch 1:  Loss: 1.2367 Accuracy: 0.558800\n",
      "Epoch 43, CIFAR-10 Batch 2:  Loss: 1.1808 Accuracy: 0.562600\n",
      "Epoch 43, CIFAR-10 Batch 3:  Loss: 1.1807 Accuracy: 0.563400\n",
      "Epoch 43, CIFAR-10 Batch 4:  Loss: 1.1860 Accuracy: 0.565200\n",
      "Epoch 43, CIFAR-10 Batch 5:  Loss: 1.1588 Accuracy: 0.565400\n",
      "Epoch 44, CIFAR-10 Batch 1:  Loss: 1.2232 Accuracy: 0.559800\n",
      "Epoch 44, CIFAR-10 Batch 2:  Loss: 1.1671 Accuracy: 0.565800\n",
      "Epoch 44, CIFAR-10 Batch 3:  Loss: 1.1859 Accuracy: 0.560200\n",
      "Epoch 44, CIFAR-10 Batch 4:  Loss: 1.1708 Accuracy: 0.566200\n",
      "Epoch 44, CIFAR-10 Batch 5:  Loss: 1.1853 Accuracy: 0.561000\n",
      "Epoch 45, CIFAR-10 Batch 1:  Loss: 1.2139 Accuracy: 0.564600\n",
      "Epoch 45, CIFAR-10 Batch 2:  Loss: 1.1809 Accuracy: 0.559400\n",
      "Epoch 45, CIFAR-10 Batch 3:  Loss: 1.2053 Accuracy: 0.556600\n",
      "Epoch 45, CIFAR-10 Batch 4:  Loss: 1.2083 Accuracy: 0.567600\n",
      "Epoch 45, CIFAR-10 Batch 5:  Loss: 1.2065 Accuracy: 0.549800\n",
      "Epoch 46, CIFAR-10 Batch 1:  Loss: 1.2105 Accuracy: 0.566000\n",
      "Epoch 46, CIFAR-10 Batch 2:  Loss: 1.1693 Accuracy: 0.570600\n",
      "Epoch 46, CIFAR-10 Batch 3:  Loss: 1.1733 Accuracy: 0.567600\n",
      "Epoch 46, CIFAR-10 Batch 4:  Loss: 1.1596 Accuracy: 0.575400\n",
      "Epoch 46, CIFAR-10 Batch 5:  Loss: 1.1540 Accuracy: 0.572600\n",
      "Epoch 47, CIFAR-10 Batch 1:  Loss: 1.1997 Accuracy: 0.573800\n",
      "Epoch 47, CIFAR-10 Batch 2:  Loss: 1.1524 Accuracy: 0.571400\n",
      "Epoch 47, CIFAR-10 Batch 3:  Loss: 1.1757 Accuracy: 0.570800\n",
      "Epoch 47, CIFAR-10 Batch 4:  Loss: 1.1672 Accuracy: 0.566400\n",
      "Epoch 47, CIFAR-10 Batch 5:  Loss: 1.1843 Accuracy: 0.550600\n",
      "Epoch 48, CIFAR-10 Batch 1:  Loss: 1.2360 Accuracy: 0.570200\n",
      "Epoch 48, CIFAR-10 Batch 2:  Loss: 1.1672 Accuracy: 0.566400\n",
      "Epoch 48, CIFAR-10 Batch 3:  Loss: 1.1461 Accuracy: 0.566000\n",
      "Epoch 48, CIFAR-10 Batch 4:  Loss: 1.1810 Accuracy: 0.572800\n",
      "Epoch 48, CIFAR-10 Batch 5:  Loss: 1.1528 Accuracy: 0.572400\n",
      "Epoch 49, CIFAR-10 Batch 1:  Loss: 1.1906 Accuracy: 0.573000\n",
      "Epoch 49, CIFAR-10 Batch 2:  Loss: 1.1553 Accuracy: 0.578000\n",
      "Epoch 49, CIFAR-10 Batch 3:  Loss: 1.1730 Accuracy: 0.570800\n",
      "Epoch 49, CIFAR-10 Batch 4:  Loss: 1.1579 Accuracy: 0.570400\n",
      "Epoch 49, CIFAR-10 Batch 5:  Loss: 1.1549 Accuracy: 0.562000\n",
      "Epoch 50, CIFAR-10 Batch 1:  Loss: 1.1899 Accuracy: 0.574200\n",
      "Epoch 50, CIFAR-10 Batch 2:  Loss: 1.1575 Accuracy: 0.581000\n",
      "Epoch 50, CIFAR-10 Batch 3:  Loss: 1.1395 Accuracy: 0.578000\n",
      "Epoch 50, CIFAR-10 Batch 4:  Loss: 1.1783 Accuracy: 0.572600\n",
      "Epoch 50, CIFAR-10 Batch 5:  Loss: 1.1459 Accuracy: 0.573600\n"
     ]
    }
   ],
   "source": [
    "\"\"\"\n",
    "DON'T MODIFY ANYTHING IN THIS CELL\n",
    "\"\"\"\n",
    "save_model_path = './image_classification'\n",
    "\n",
    "print('Training...')\n",
    "with tf.Session() as sess:\n",
    "    # Initializing the variables\n",
    "    sess.run(tf.global_variables_initializer())\n",
    "    \n",
    "    # Training cycle\n",
    "    for epoch in range(epochs):\n",
    "        # Loop over all batches\n",
    "        n_batches = 5\n",
    "        for batch_i in range(1, n_batches + 1):\n",
    "            for batch_features, batch_labels in helper.load_preprocess_training_batch(batch_i, batch_size):\n",
    "                train_neural_network(sess, optimizer, keep_probability, batch_features, batch_labels)\n",
    "            print('Epoch {:>2}, CIFAR-10 Batch {}:  '.format(epoch + 1, batch_i), end='')\n",
    "            print_stats(sess, batch_features, batch_labels, cost, accuracy)\n",
    "            \n",
    "    # Save Model\n",
    "    saver = tf.train.Saver()\n",
    "    save_path = saver.save(sess, save_model_path)"
   ]
  },
  {
   "cell_type": "markdown",
   "metadata": {},
   "source": [
    "# Checkpoint\n",
    "The model has been saved to disk.\n",
    "## Test Model\n",
    "Test your model against the test dataset.  This will be your final accuracy. You should have an accuracy greater than 50%. If you don't, keep tweaking the model architecture and parameters."
   ]
  },
  {
   "cell_type": "code",
   "execution_count": 50,
   "metadata": {},
   "outputs": [
    {
     "name": "stdout",
     "output_type": "stream",
     "text": [
      "INFO:tensorflow:Restoring parameters from ./image_classification\n",
      "Testing Accuracy: 0.5779376566410065\n",
      "\n"
     ]
    },
    {
     "data": {
      "image/png": "[encoded data removed]",
      "text/plain": [
       "<matplotlib.figure.Figure at 0x7f5d51c49b70>"
      ]
     },
     "metadata": {
      "image/png": {
       "height": 319,
       "width": 355
      }
     },
     "output_type": "display_data"
    }
   ],
   "source": [
    "\"\"\"\n",
    "DON'T MODIFY ANYTHING IN THIS CELL\n",
    "\"\"\"\n",
    "%matplotlib inline\n",
    "%config InlineBackend.figure_format = 'retina'\n",
    "\n",
    "import tensorflow as tf\n",
    "import pickle\n",
    "import helper\n",
    "import random\n",
    "\n",
    "# Set batch size if not already set\n",
    "try:\n",
    "    if batch_size:\n",
    "        pass\n",
    "except NameError:\n",
    "    batch_size = 64\n",
    "\n",
    "save_model_path = './image_classification'\n",
    "n_samples = 4\n",
    "top_n_predictions = 3\n",
    "\n",
    "def test_model():\n",
    "    \"\"\"\n",
    "    Test the saved model against the test dataset\n",
    "    \"\"\"\n",
    "\n",
    "    test_features, test_labels = pickle.load(open('preprocess_test.p', mode='rb'))\n",
    "    loaded_graph = tf.Graph()\n",
    "\n",
    "    with tf.Session(graph=loaded_graph) as sess:\n",
    "        # Load model\n",
    "        loader = tf.train.import_meta_graph(save_model_path + '.meta')\n",
    "        loader.restore(sess, save_model_path)\n",
    "\n",
    "        # Get Tensors from loaded model\n",
    "        loaded_x = loaded_graph.get_tensor_by_name('x:0')\n",
    "        loaded_y = loaded_graph.get_tensor_by_name('y:0')\n",
    "        loaded_keep_prob = loaded_graph.get_tensor_by_name('keep_prob:0')\n",
    "        loaded_logits = loaded_graph.get_tensor_by_name('logits:0')\n",
    "        loaded_acc = loaded_graph.get_tensor_by_name('accuracy:0')\n",
    "        \n",
    "        # Get accuracy in batches for memory limitations\n",
    "        test_batch_acc_total = 0\n",
    "        test_batch_count = 0\n",
    "        \n",
    "        for test_feature_batch, test_label_batch in helper.batch_features_labels(test_features, test_labels, batch_size):\n",
    "            test_batch_acc_total += sess.run(\n",
    "                loaded_acc,\n",
    "                feed_dict={loaded_x: test_feature_batch, loaded_y: test_label_batch, loaded_keep_prob: 1.0})\n",
    "            test_batch_count += 1\n",
    "\n",
    "        print('Testing Accuracy: {}\\n'.format(test_batch_acc_total/test_batch_count))\n",
    "\n",
    "        # Print Random Samples\n",
    "        random_test_features, random_test_labels = tuple(zip(*random.sample(list(zip(test_features, test_labels)), n_samples)))\n",
    "        random_test_predictions = sess.run(\n",
    "            tf.nn.top_k(tf.nn.softmax(loaded_logits), top_n_predictions),\n",
    "            feed_dict={loaded_x: random_test_features, loaded_y: random_test_labels, loaded_keep_prob: 1.0})\n",
    "        helper.display_image_predictions(random_test_features, random_test_labels, random_test_predictions)\n",
    "\n",
    "\n",
    "test_model()"
   ]
  },
  {
   "cell_type": "markdown",
   "metadata": {},
   "source": [
    "## Why 50-80% Accuracy?\n",
    "You might be wondering why you can't get an accuracy any higher. First things first, 50% isn't bad for a simple CNN.  Pure guessing would get you 10% accuracy. However, you might notice people are getting scores [well above 80%](http://rodrigob.github.io/are_we_there_yet/build/classification_datasets_results.html#43494641522d3130).  That's because we haven't taught you all there is to know about neural networks. We still need to cover a few more techniques.\n",
    "## Submitting This Project\n",
    "When submitting this project, make sure to run all the cells before saving the notebook.  Save the notebook file as \"dlnd_image_classification.ipynb\" and save it as a HTML file under \"File\" -> \"Download as\".  Include the \"helper.py\" and \"problem_unittests.py\" files in your submission."
   ]
  }
 ],
 "metadata": {
  "kernelspec": {
   "display_name": "Python 3",
   "language": "python",
   "name": "python3"
  },
  "language_info": {
   "codemirror_mode": {
    "name": "ipython",
    "version": 3
   },
   "file_extension": ".py",
   "mimetype": "text/x-python",
   "name": "python",
   "nbconvert_exporter": "python",
   "pygments_lexer": "ipython3",
   "version": "3.5.3"
  }
 },
 "nbformat": 4,
 "nbformat_minor": 1
}
